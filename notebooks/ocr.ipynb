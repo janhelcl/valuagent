{
 "cells": [
  {
   "cell_type": "code",
   "execution_count": 1,
   "id": "94aa17e7",
   "metadata": {},
   "outputs": [],
   "source": [
    "# Ensure project root is on sys.path so `src` package is importable\n",
    "import sys\n",
    "import pathlib\n",
    "project_root = pathlib.Path.cwd()\n",
    "if (project_root / \"src\").exists():\n",
    "    sys.path.insert(0, str(project_root))\n",
    "elif (project_root.parent / \"src\").exists():\n",
    "    sys.path.insert(0, str(project_root.parent))\n"
   ]
  },
  {
   "cell_type": "code",
   "execution_count": 2,
   "id": "aac156f0",
   "metadata": {},
   "outputs": [],
   "source": [
    "import base64\n",
    "import os\n",
    "import pathlib\n",
    "import json\n",
    "\n",
    "from dotenv import load_dotenv\n",
    "from google import genai\n",
    "from google.genai import types\n",
    "\n",
    "from src.domain.prompts.balance_sheet import balance_sheet_ocr_instructions\n",
    "from src.domain.prompts.profit_and_loss import profit_and_loss_ocr_instructions\n",
    "from src.domain.prompts.statement_disambiguation import statement_disambiguation_instructions\n",
    "\n",
    "from src.domain.models.balance_sheet import BalanceSheet\n",
    "from src.domain.models.profit_and_loss import ProfitAndLoss\n",
    "from src.shared import utils"
   ]
  },
  {
   "cell_type": "code",
   "execution_count": 3,
   "id": "3d91c0bd",
   "metadata": {},
   "outputs": [],
   "source": [
    "%reload_ext autoreload\n",
    "%autoreload 2"
   ]
  },
  {
   "cell_type": "code",
   "execution_count": 4,
   "id": "4b42047b",
   "metadata": {},
   "outputs": [],
   "source": [
    "load_dotenv();"
   ]
  },
  {
   "cell_type": "code",
   "execution_count": 5,
   "id": "29f779ce",
   "metadata": {},
   "outputs": [],
   "source": [
    "client = genai.Client()\n",
    "\n",
    "# Retrieve and encode the PDF byte\n",
    "filepath = pathlib.Path('sample_data/bohm/výkazy 2024 Bohm Plast CZ.pdf')\n",
    "# filepath = pathlib.Path('sample_data/Výroční zpráva ZS Dublovice včetně zprávy auditora 2024.pdf')\n",
    "\n",
    "model_name = os.getenv(\"GENAI_MODEL\", \"gemini-2.5-pro\")"
   ]
  },
  {
   "cell_type": "code",
   "execution_count": 6,
   "id": "3bc58428",
   "metadata": {},
   "outputs": [],
   "source": [
    "response = client.models.generate_content(\n",
    "  model=model_name,\n",
    "  contents=[\n",
    "    types.Part.from_bytes(\n",
    "      data=filepath.read_bytes(),\n",
    "      mime_type='application/pdf'\n",
    "    ),\n",
    "    statement_disambiguation_instructions\n",
    "  ],\n",
    "  config={\n",
    "    \"response_mime_type\": \"application/json\"\n",
    "  },\n",
    ")"
   ]
  },
  {
   "cell_type": "code",
   "execution_count": 7,
   "id": "4fa1039f",
   "metadata": {},
   "outputs": [],
   "source": [
    "disambiguation_result = json.loads(response.text)"
   ]
  },
  {
   "cell_type": "code",
   "execution_count": 8,
   "id": "2aacbbc8",
   "metadata": {},
   "outputs": [
    {
     "data": {
      "text/plain": [
       "{'rozvaha': True, 'výkaz_zisku_a_ztráty': True, 'datum': '2024-12-31'}"
      ]
     },
     "execution_count": 8,
     "metadata": {},
     "output_type": "execute_result"
    }
   ],
   "source": [
    "disambiguation_result"
   ]
  },
  {
   "cell_type": "code",
   "execution_count": 9,
   "id": "1765cc78",
   "metadata": {},
   "outputs": [],
   "source": [
    "response = client.models.generate_content(\n",
    "  model=model_name,\n",
    "  contents=[\n",
    "    types.Part.from_bytes(\n",
    "      data=filepath.read_bytes(),\n",
    "      mime_type='application/pdf'\n",
    "    ),\n",
    "    balance_sheet_ocr_instructions\n",
    "  ],\n",
    "  config={\n",
    "    \"response_mime_type\": \"application/json\"\n",
    "  },\n",
    ")"
   ]
  },
  {
   "cell_type": "code",
   "execution_count": 10,
   "id": "467aa1e9",
   "metadata": {},
   "outputs": [],
   "source": [
    "try:\n",
    "    ocr_result = json.loads(response.text)\n",
    "except json.JSONDecodeError:\n",
    "    ocr_result = utils.load_json_from_text(response.text)"
   ]
  },
  {
   "cell_type": "code",
   "execution_count": 11,
   "id": "2b6f7a66",
   "metadata": {},
   "outputs": [
    {
     "ename": "ValidationError",
     "evalue": "1 validation error for BalanceSheet\n  Value error, Balance sheet validation failed:\n- Rule validation failed for netto: Row 57 (25306) != Sum of rows 58+59+60+61 (23483) (difference: 1823, tolerance: 1) [type=value_error, input_value={'rok': 2024, 'data': {'1... 0, 'netto_minule': 0}}}, input_type=dict]\n    For further information visit https://errors.pydantic.dev/2.11/v/value_error",
     "output_type": "error",
     "traceback": [
      "\u001b[0;31m---------------------------------------------------------------------------\u001b[0m",
      "\u001b[0;31mValidationError\u001b[0m                           Traceback (most recent call last)",
      "Cell \u001b[0;32mIn[11], line 1\u001b[0m\n\u001b[0;32m----> 1\u001b[0m validated \u001b[38;5;241m=\u001b[39m \u001b[43mBalanceSheet\u001b[49m\u001b[38;5;241;43m.\u001b[39;49m\u001b[43mmodel_validate_with_tolerance\u001b[49m\u001b[43m(\u001b[49m\u001b[43mocr_result\u001b[49m\u001b[43m,\u001b[49m\u001b[43m \u001b[49m\u001b[43mtolerance\u001b[49m\u001b[38;5;241;43m=\u001b[39;49m\u001b[38;5;241;43m1\u001b[39;49m\u001b[43m)\u001b[49m\n",
      "File \u001b[0;32m/mnt/c/Users/janhe/OneDrive/Plocha/repos/valuagent/src/domain/models/balance_sheet.py:100\u001b[0m, in \u001b[0;36mBalanceSheet.model_validate_with_tolerance\u001b[0;34m(cls, obj, tolerance, **kwargs)\u001b[0m\n\u001b[1;32m     98\u001b[0m context[\u001b[38;5;124m'\u001b[39m\u001b[38;5;124mtolerance\u001b[39m\u001b[38;5;124m'\u001b[39m] \u001b[38;5;241m=\u001b[39m tolerance\n\u001b[1;32m     99\u001b[0m kwargs[\u001b[38;5;124m'\u001b[39m\u001b[38;5;124mcontext\u001b[39m\u001b[38;5;124m'\u001b[39m] \u001b[38;5;241m=\u001b[39m context\n\u001b[0;32m--> 100\u001b[0m \u001b[38;5;28;01mreturn\u001b[39;00m \u001b[38;5;28;43mcls\u001b[39;49m\u001b[38;5;241;43m.\u001b[39;49m\u001b[43mmodel_validate\u001b[49m\u001b[43m(\u001b[49m\u001b[43mobj\u001b[49m\u001b[43m,\u001b[49m\u001b[43m \u001b[49m\u001b[38;5;241;43m*\u001b[39;49m\u001b[38;5;241;43m*\u001b[39;49m\u001b[43mkwargs\u001b[49m\u001b[43m)\u001b[49m\n",
      "File \u001b[0;32m~/.cache/pypoetry/virtualenvs/valuagent-L2uncqVZ-py3.10/lib/python3.10/site-packages/pydantic/main.py:705\u001b[0m, in \u001b[0;36mBaseModel.model_validate\u001b[0;34m(cls, obj, strict, from_attributes, context, by_alias, by_name)\u001b[0m\n\u001b[1;32m    699\u001b[0m \u001b[38;5;28;01mif\u001b[39;00m by_alias \u001b[38;5;129;01mis\u001b[39;00m \u001b[38;5;28;01mFalse\u001b[39;00m \u001b[38;5;129;01mand\u001b[39;00m by_name \u001b[38;5;129;01mis\u001b[39;00m \u001b[38;5;129;01mnot\u001b[39;00m \u001b[38;5;28;01mTrue\u001b[39;00m:\n\u001b[1;32m    700\u001b[0m     \u001b[38;5;28;01mraise\u001b[39;00m PydanticUserError(\n\u001b[1;32m    701\u001b[0m         \u001b[38;5;124m'\u001b[39m\u001b[38;5;124mAt least one of `by_alias` or `by_name` must be set to True.\u001b[39m\u001b[38;5;124m'\u001b[39m,\n\u001b[1;32m    702\u001b[0m         code\u001b[38;5;241m=\u001b[39m\u001b[38;5;124m'\u001b[39m\u001b[38;5;124mvalidate-by-alias-and-name-false\u001b[39m\u001b[38;5;124m'\u001b[39m,\n\u001b[1;32m    703\u001b[0m     )\n\u001b[0;32m--> 705\u001b[0m \u001b[38;5;28;01mreturn\u001b[39;00m \u001b[38;5;28;43mcls\u001b[39;49m\u001b[38;5;241;43m.\u001b[39;49m\u001b[43m__pydantic_validator__\u001b[49m\u001b[38;5;241;43m.\u001b[39;49m\u001b[43mvalidate_python\u001b[49m\u001b[43m(\u001b[49m\n\u001b[1;32m    706\u001b[0m \u001b[43m    \u001b[49m\u001b[43mobj\u001b[49m\u001b[43m,\u001b[49m\u001b[43m \u001b[49m\u001b[43mstrict\u001b[49m\u001b[38;5;241;43m=\u001b[39;49m\u001b[43mstrict\u001b[49m\u001b[43m,\u001b[49m\u001b[43m \u001b[49m\u001b[43mfrom_attributes\u001b[49m\u001b[38;5;241;43m=\u001b[39;49m\u001b[43mfrom_attributes\u001b[49m\u001b[43m,\u001b[49m\u001b[43m \u001b[49m\u001b[43mcontext\u001b[49m\u001b[38;5;241;43m=\u001b[39;49m\u001b[43mcontext\u001b[49m\u001b[43m,\u001b[49m\u001b[43m \u001b[49m\u001b[43mby_alias\u001b[49m\u001b[38;5;241;43m=\u001b[39;49m\u001b[43mby_alias\u001b[49m\u001b[43m,\u001b[49m\u001b[43m \u001b[49m\u001b[43mby_name\u001b[49m\u001b[38;5;241;43m=\u001b[39;49m\u001b[43mby_name\u001b[49m\n\u001b[1;32m    707\u001b[0m \u001b[43m\u001b[49m\u001b[43m)\u001b[49m\n",
      "\u001b[0;31mValidationError\u001b[0m: 1 validation error for BalanceSheet\n  Value error, Balance sheet validation failed:\n- Rule validation failed for netto: Row 57 (25306) != Sum of rows 58+59+60+61 (23483) (difference: 1823, tolerance: 1) [type=value_error, input_value={'rok': 2024, 'data': {'1... 0, 'netto_minule': 0}}}, input_type=dict]\n    For further information visit https://errors.pydantic.dev/2.11/v/value_error"
     ]
    }
   ],
   "source": [
    "validated = BalanceSheet.model_validate_with_tolerance(ocr_result, tolerance=1)"
   ]
  },
  {
   "cell_type": "code",
   "execution_count": 13,
   "id": "661e8dc0",
   "metadata": {},
   "outputs": [
    {
     "data": {
      "text/plain": [
       "25306"
      ]
     },
     "execution_count": 13,
     "metadata": {},
     "output_type": "execute_result"
    }
   ],
   "source": [
    "ocr_result[\"data\"][\"57\"][\"netto\"]"
   ]
  },
  {
   "cell_type": "code",
   "execution_count": 14,
   "id": "d9ac4a52",
   "metadata": {},
   "outputs": [
    {
     "data": {
      "text/plain": [
       "20667"
      ]
     },
     "execution_count": 14,
     "metadata": {},
     "output_type": "execute_result"
    }
   ],
   "source": [
    "ocr_result[\"data\"][\"58\"][\"netto\"]"
   ]
  },
  {
   "cell_type": "code",
   "execution_count": 15,
   "id": "9c35d0e9",
   "metadata": {},
   "outputs": [
    {
     "data": {
      "text/plain": [
       "0"
      ]
     },
     "execution_count": 15,
     "metadata": {},
     "output_type": "execute_result"
    }
   ],
   "source": [
    "ocr_result[\"data\"][\"59\"][\"netto\"]"
   ]
  },
  {
   "cell_type": "code",
   "execution_count": 16,
   "id": "e9c546af",
   "metadata": {},
   "outputs": [
    {
     "data": {
      "text/plain": [
       "0"
      ]
     },
     "execution_count": 16,
     "metadata": {},
     "output_type": "execute_result"
    }
   ],
   "source": [
    "ocr_result[\"data\"][\"60\"][\"netto\"]"
   ]
  },
  {
   "cell_type": "code",
   "execution_count": 17,
   "id": "9c660b48",
   "metadata": {},
   "outputs": [
    {
     "data": {
      "text/plain": [
       "2816"
      ]
     },
     "execution_count": 17,
     "metadata": {},
     "output_type": "execute_result"
    }
   ],
   "source": [
    "ocr_result[\"data\"][\"61\"][\"netto\"]"
   ]
  },
  {
   "cell_type": "code",
   "execution_count": 22,
   "id": "4abd14be",
   "metadata": {},
   "outputs": [
    {
     "data": {
      "text/plain": [
       "1823"
      ]
     },
     "execution_count": 22,
     "metadata": {},
     "output_type": "execute_result"
    }
   ],
   "source": [
    "25306 - (20667 + 2816)"
   ]
  },
  {
   "cell_type": "code",
   "execution_count": null,
   "id": "accbce56",
   "metadata": {},
   "outputs": [],
   "source": [
    "validated.data"
   ]
  },
  {
   "cell_type": "code",
   "execution_count": null,
   "id": "a99d6800",
   "metadata": {},
   "outputs": [],
   "source": [
    "response = client.models.generate_content(\n",
    "  model=model_name,\n",
    "  contents=[\n",
    "    types.Part.from_bytes(\n",
    "      data=filepath.read_bytes(),\n",
    "      mime_type='application/pdf'\n",
    "    ),\n",
    "    profit_and_loss_ocr_instructions\n",
    "  ],\n",
    "  config={\n",
    "    \"response_mime_type\": \"application/json\"\n",
    "  },\n",
    ")"
   ]
  },
  {
   "cell_type": "code",
   "execution_count": null,
   "id": "0cd637e4",
   "metadata": {},
   "outputs": [],
   "source": [
    "try:\n",
    "    ocr_result = json.loads(response.text)\n",
    "except json.JSONDecodeError:\n",
    "    ocr_result = utils.load_json_from_text(response.text)"
   ]
  },
  {
   "cell_type": "code",
   "execution_count": null,
   "id": "d4216f0c",
   "metadata": {},
   "outputs": [],
   "source": [
    "validated_profit_and_loss = ProfitAndLoss.model_validate_with_tolerance(ocr_result, tolerance=1)"
   ]
  },
  {
   "cell_type": "code",
   "execution_count": null,
   "id": "a2232ee1",
   "metadata": {},
   "outputs": [],
   "source": [
    "validated_profit_and_loss.data"
   ]
  },
  {
   "cell_type": "code",
   "execution_count": null,
   "id": "d08a8ba5",
   "metadata": {},
   "outputs": [],
   "source": [
    "validated.data[99].netto  == validated_profit_and_loss.data[53].současné"
   ]
  },
  {
   "cell_type": "code",
   "execution_count": null,
   "id": "e464f4ef",
   "metadata": {},
   "outputs": [],
   "source": [
    "validated.data[99].netto_minule  == validated_profit_and_loss.data[53].minulé"
   ]
  }
 ],
 "metadata": {
  "kernelspec": {
   "display_name": "Python 3 (ipykernel)",
   "language": "python",
   "name": "python3"
  },
  "language_info": {
   "codemirror_mode": {
    "name": "ipython",
    "version": 3
   },
   "file_extension": ".py",
   "mimetype": "text/x-python",
   "name": "python",
   "nbconvert_exporter": "python",
   "pygments_lexer": "ipython3",
   "version": "3.10.12"
  }
 },
 "nbformat": 4,
 "nbformat_minor": 5
}
