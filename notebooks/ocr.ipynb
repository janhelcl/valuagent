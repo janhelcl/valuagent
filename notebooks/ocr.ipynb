{
 "cells": [
  {
   "cell_type": "code",
   "execution_count": 1,
   "id": "94aa17e7",
   "metadata": {},
   "outputs": [],
   "source": [
    "# Ensure project root is on sys.path so `src` package is importable\n",
    "import sys\n",
    "import pathlib\n",
    "project_root = pathlib.Path.cwd()\n",
    "if (project_root / \"src\").exists():\n",
    "    sys.path.insert(0, str(project_root))\n",
    "elif (project_root.parent / \"src\").exists():\n",
    "    sys.path.insert(0, str(project_root.parent))\n"
   ]
  },
  {
   "cell_type": "code",
   "execution_count": 2,
   "id": "aac156f0",
   "metadata": {},
   "outputs": [],
   "source": [
    "import base64\n",
    "import os\n",
    "import pathlib\n",
    "import json\n",
    "\n",
    "from dotenv import load_dotenv\n",
    "from google import genai\n",
    "from google.genai import types\n",
    "\n",
    "from src.domain.prompts.balance_sheet import balance_sheet_ocr_instructions\n",
    "from src.domain.prompts.profit_and_loss import profit_and_loss_ocr_instructions\n",
    "from src.domain.prompts.statement_disambiguation import statement_disambiguation_instructions\n",
    "\n",
    "from src.domain.models.balance_sheet import BalanceSheet\n",
    "from src.domain.models.profit_and_loss import ProfitAndLoss\n",
    "from src.shared import utils"
   ]
  },
  {
   "cell_type": "code",
   "execution_count": 3,
   "id": "3d91c0bd",
   "metadata": {},
   "outputs": [],
   "source": [
    "%reload_ext autoreload\n",
    "%autoreload 2"
   ]
  },
  {
   "cell_type": "code",
   "execution_count": 4,
   "id": "4b42047b",
   "metadata": {},
   "outputs": [],
   "source": [
    "load_dotenv();"
   ]
  },
  {
   "cell_type": "code",
   "execution_count": null,
   "id": "29f779ce",
   "metadata": {},
   "outputs": [],
   "source": [
    "client = genai.Client()\n",
    "\n",
    "# Retrieve and encode the PDF byte\n",
    "filepath = pathlib.Path('sample_data/bohm/výkazy 2024 Bohm Plast CZ.pdf')\n",
    "# filepath = pathlib.Path('sample_data/Výroční zpráva ZS Dublovice včetně zprávy auditora 2024.pdf')\n",
    "\n",
    "model_name = os.getenv(\"GENAI_MODEL\", \"gemini-2.5-pro\")"
   ]
  },
  {
   "cell_type": "code",
   "execution_count": 6,
   "id": "3bc58428",
   "metadata": {},
   "outputs": [],
   "source": [
    "response = client.models.generate_content(\n",
    "  model=model_name,\n",
    "  contents=[\n",
    "    types.Part.from_bytes(\n",
    "      data=filepath.read_bytes(),\n",
    "      mime_type='application/pdf'\n",
    "    ),\n",
    "    statement_disambiguation_instructions\n",
    "  ],\n",
    "  config={\n",
    "    \"response_mime_type\": \"application/json\"\n",
    "  },\n",
    ")"
   ]
  },
  {
   "cell_type": "code",
   "execution_count": 7,
   "id": "4fa1039f",
   "metadata": {},
   "outputs": [],
   "source": [
    "disambiguation_result = json.loads(response.text)"
   ]
  },
  {
   "cell_type": "code",
   "execution_count": 8,
   "id": "2aacbbc8",
   "metadata": {},
   "outputs": [
    {
     "data": {
      "text/plain": [
       "{'rozvaha': True, 'výkaz_zisku_a_ztráty': True, 'datum': '2024-12-31'}"
      ]
     },
     "execution_count": 8,
     "metadata": {},
     "output_type": "execute_result"
    }
   ],
   "source": [
    "disambiguation_result"
   ]
  },
  {
   "cell_type": "code",
   "execution_count": 9,
   "id": "1765cc78",
   "metadata": {},
   "outputs": [],
   "source": [
    "response = client.models.generate_content(\n",
    "  model=model_name,\n",
    "  contents=[\n",
    "    types.Part.from_bytes(\n",
    "      data=filepath.read_bytes(),\n",
    "      mime_type='application/pdf'\n",
    "    ),\n",
    "    balance_sheet_ocr_instructions\n",
    "  ],\n",
    "  config={\n",
    "    \"response_mime_type\": \"application/json\"\n",
    "  },\n",
    ")"
   ]
  },
  {
   "cell_type": "code",
   "execution_count": 10,
   "id": "467aa1e9",
   "metadata": {},
   "outputs": [],
   "source": [
    "try:\n",
    "    ocr_result = json.loads(response.text)\n",
    "except json.JSONDecodeError:\n",
    "    ocr_result = utils.load_json_from_text(response.text)"
   ]
  },
  {
   "cell_type": "code",
   "execution_count": 11,
   "id": "2b6f7a66",
   "metadata": {},
   "outputs": [],
   "source": [
    "validated = BalanceSheet.model_validate_with_tolerance(ocr_result, tolerance=1)"
   ]
  },
  {
   "cell_type": "code",
   "execution_count": 12,
   "id": "accbce56",
   "metadata": {},
   "outputs": [
    {
     "data": {
      "text/plain": [
       "{1: BalanceSheetRow(brutto=277437, korekce=-79710, netto=197727, netto_minule=154186),\n",
       " 2: BalanceSheetRow(brutto=0, korekce=0, netto=0, netto_minule=0),\n",
       " 3: BalanceSheetRow(brutto=121228, korekce=-79710, netto=41518, netto_minule=54231),\n",
       " 4: BalanceSheetRow(brutto=11808, korekce=-1502, netto=10306, netto_minule=6811),\n",
       " 5: BalanceSheetRow(brutto=0, korekce=0, netto=0, netto_minule=0),\n",
       " 6: BalanceSheetRow(brutto=8877, korekce=-1502, netto=7375, netto_minule=5824),\n",
       " 7: BalanceSheetRow(brutto=8877, korekce=-1502, netto=7375, netto_minule=5824),\n",
       " 8: BalanceSheetRow(brutto=0, korekce=0, netto=0, netto_minule=0),\n",
       " 9: BalanceSheetRow(brutto=0, korekce=0, netto=0, netto_minule=0),\n",
       " 10: BalanceSheetRow(brutto=0, korekce=0, netto=0, netto_minule=0),\n",
       " 11: BalanceSheetRow(brutto=2931, korekce=0, netto=2931, netto_minule=987),\n",
       " 12: BalanceSheetRow(brutto=0, korekce=0, netto=0, netto_minule=0),\n",
       " 13: BalanceSheetRow(brutto=2931, korekce=0, netto=2931, netto_minule=987),\n",
       " 14: BalanceSheetRow(brutto=109420, korekce=-78208, netto=31212, netto_minule=47420),\n",
       " 15: BalanceSheetRow(brutto=61847, korekce=-43742, netto=18105, netto_minule=28443),\n",
       " 16: BalanceSheetRow(brutto=0, korekce=0, netto=0, netto_minule=0),\n",
       " 17: BalanceSheetRow(brutto=61847, korekce=-43742, netto=18104, netto_minule=28443),\n",
       " 18: BalanceSheetRow(brutto=46951, korekce=-34466, netto=12484, netto_minule=18901),\n",
       " 19: BalanceSheetRow(brutto=0, korekce=0, netto=0, netto_minule=0),\n",
       " 20: BalanceSheetRow(brutto=0, korekce=0, netto=0, netto_minule=0),\n",
       " 21: BalanceSheetRow(brutto=0, korekce=0, netto=0, netto_minule=0),\n",
       " 22: BalanceSheetRow(brutto=0, korekce=0, netto=0, netto_minule=0),\n",
       " 23: BalanceSheetRow(brutto=0, korekce=0, netto=0, netto_minule=0),\n",
       " 24: BalanceSheetRow(brutto=622, korekce=0, netto=622, netto_minule=76),\n",
       " 25: BalanceSheetRow(brutto=0, korekce=0, netto=0, netto_minule=0),\n",
       " 26: BalanceSheetRow(brutto=622, korekce=0, netto=622, netto_minule=76),\n",
       " 27: BalanceSheetRow(brutto=0, korekce=0, netto=0, netto_minule=0),\n",
       " 28: BalanceSheetRow(brutto=0, korekce=0, netto=0, netto_minule=0),\n",
       " 29: BalanceSheetRow(brutto=0, korekce=0, netto=0, netto_minule=0),\n",
       " 30: BalanceSheetRow(brutto=0, korekce=0, netto=0, netto_minule=0),\n",
       " 31: BalanceSheetRow(brutto=0, korekce=0, netto=0, netto_minule=0),\n",
       " 32: BalanceSheetRow(brutto=0, korekce=0, netto=0, netto_minule=0),\n",
       " 33: BalanceSheetRow(brutto=0, korekce=0, netto=0, netto_minule=0),\n",
       " 34: BalanceSheetRow(brutto=0, korekce=0, netto=0, netto_minule=0),\n",
       " 35: BalanceSheetRow(brutto=0, korekce=0, netto=0, netto_minule=0),\n",
       " 36: BalanceSheetRow(brutto=0, korekce=0, netto=0, netto_minule=0),\n",
       " 37: BalanceSheetRow(brutto=154779, korekce=0, netto=154779, netto_minule=98783),\n",
       " 38: BalanceSheetRow(brutto=36697, korekce=0, netto=36697, netto_minule=30716),\n",
       " 39: BalanceSheetRow(brutto=6893, korekce=0, netto=6893, netto_minule=7393),\n",
       " 40: BalanceSheetRow(brutto=0, korekce=0, netto=0, netto_minule=0),\n",
       " 41: BalanceSheetRow(brutto=29804, korekce=0, netto=29804, netto_minule=23323),\n",
       " 42: BalanceSheetRow(brutto=29804, korekce=0, netto=29804, netto_minule=23323),\n",
       " 43: BalanceSheetRow(brutto=0, korekce=0, netto=0, netto_minule=0),\n",
       " 44: BalanceSheetRow(brutto=0, korekce=0, netto=0, netto_minule=0),\n",
       " 45: BalanceSheetRow(brutto=0, korekce=0, netto=0, netto_minule=0),\n",
       " 46: BalanceSheetRow(brutto=102478, korekce=0, netto=102478, netto_minule=60276),\n",
       " 47: BalanceSheetRow(brutto=4260, korekce=0, netto=4260, netto_minule=4193),\n",
       " 48: BalanceSheetRow(brutto=0, korekce=0, netto=0, netto_minule=0),\n",
       " 49: BalanceSheetRow(brutto=0, korekce=0, netto=0, netto_minule=0),\n",
       " 50: BalanceSheetRow(brutto=0, korekce=0, netto=0, netto_minule=0),\n",
       " 51: BalanceSheetRow(brutto=0, korekce=0, netto=0, netto_minule=0),\n",
       " 52: BalanceSheetRow(brutto=4260, korekce=0, netto=4260, netto_minule=4193),\n",
       " 53: BalanceSheetRow(brutto=0, korekce=0, netto=0, netto_minule=0),\n",
       " 54: BalanceSheetRow(brutto=4260, korekce=0, netto=4260, netto_minule=4193),\n",
       " 55: BalanceSheetRow(brutto=0, korekce=0, netto=0, netto_minule=0),\n",
       " 56: BalanceSheetRow(brutto=0, korekce=0, netto=0, netto_minule=0),\n",
       " 57: BalanceSheetRow(brutto=98218, korekce=0, netto=98218, netto_minule=56083),\n",
       " 58: BalanceSheetRow(brutto=89318, korekce=0, netto=89318, netto_minule=48583),\n",
       " 59: BalanceSheetRow(brutto=0, korekce=0, netto=0, netto_minule=0),\n",
       " 60: BalanceSheetRow(brutto=0, korekce=0, netto=0, netto_minule=0),\n",
       " 61: BalanceSheetRow(brutto=8900, korekce=0, netto=8900, netto_minule=7500),\n",
       " 62: BalanceSheetRow(brutto=0, korekce=0, netto=0, netto_minule=0),\n",
       " 63: BalanceSheetRow(brutto=0, korekce=0, netto=0, netto_minule=0),\n",
       " 64: BalanceSheetRow(brutto=5062, korekce=0, netto=5062, netto_minule=4114),\n",
       " 65: BalanceSheetRow(brutto=3825, korekce=0, netto=3825, netto_minule=3375),\n",
       " 66: BalanceSheetRow(brutto=0, korekce=0, netto=0, netto_minule=0),\n",
       " 67: BalanceSheetRow(brutto=13, korekce=0, netto=13, netto_minule=11),\n",
       " 68: BalanceSheetRow(brutto=0, korekce=0, netto=0, netto_minule=0),\n",
       " 69: BalanceSheetRow(brutto=0, korekce=0, netto=0, netto_minule=0),\n",
       " 70: BalanceSheetRow(brutto=0, korekce=0, netto=0, netto_minule=0),\n",
       " 71: BalanceSheetRow(brutto=15604, korekce=0, netto=15604, netto_minule=7791),\n",
       " 72: BalanceSheetRow(brutto=4299, korekce=0, netto=4299, netto_minule=4107),\n",
       " 73: BalanceSheetRow(brutto=11305, korekce=0, netto=11305, netto_minule=3684),\n",
       " 74: BalanceSheetRow(brutto=1430, korekce=0, netto=1430, netto_minule=1172),\n",
       " 75: BalanceSheetRow(brutto=1430, korekce=0, netto=1430, netto_minule=1172),\n",
       " 76: BalanceSheetRow(brutto=0, korekce=0, netto=0, netto_minule=0),\n",
       " 77: BalanceSheetRow(brutto=0, korekce=0, netto=0, netto_minule=0),\n",
       " 78: BalanceSheetRow(brutto=None, korekce=None, netto=197727, netto_minule=154186),\n",
       " 79: BalanceSheetRow(brutto=None, korekce=None, netto=61984, netto_minule=23693),\n",
       " 80: BalanceSheetRow(brutto=None, korekce=None, netto=2000, netto_minule=2000),\n",
       " 81: BalanceSheetRow(brutto=None, korekce=None, netto=2000, netto_minule=2000),\n",
       " 82: BalanceSheetRow(brutto=None, korekce=None, netto=0, netto_minule=0),\n",
       " 83: BalanceSheetRow(brutto=None, korekce=None, netto=0, netto_minule=0),\n",
       " 84: BalanceSheetRow(brutto=None, korekce=None, netto=248106, netto_minule=248106),\n",
       " 85: BalanceSheetRow(brutto=None, korekce=None, netto=0, netto_minule=0),\n",
       " 86: BalanceSheetRow(brutto=None, korekce=None, netto=248106, netto_minule=248106),\n",
       " 87: BalanceSheetRow(brutto=None, korekce=None, netto=248106, netto_minule=248106),\n",
       " 88: BalanceSheetRow(brutto=None, korekce=None, netto=0, netto_minule=0),\n",
       " 89: BalanceSheetRow(brutto=None, korekce=None, netto=0, netto_minule=0),\n",
       " 90: BalanceSheetRow(brutto=None, korekce=None, netto=0, netto_minule=0),\n",
       " 91: BalanceSheetRow(brutto=None, korekce=None, netto=0, netto_minule=0),\n",
       " 92: BalanceSheetRow(brutto=None, korekce=None, netto=0, netto_minule=0),\n",
       " 93: BalanceSheetRow(brutto=None, korekce=None, netto=0, netto_minule=0),\n",
       " 94: BalanceSheetRow(brutto=None, korekce=None, netto=0, netto_minule=0),\n",
       " 95: BalanceSheetRow(brutto=None, korekce=None, netto=-226413, netto_minule=-213741),\n",
       " 96: BalanceSheetRow(brutto=None, korekce=None, netto=0, netto_minule=0),\n",
       " 97: BalanceSheetRow(brutto=None, korekce=None, netto=-226413, netto_minule=-213741),\n",
       " 98: BalanceSheetRow(brutto=None, korekce=None, netto=0, netto_minule=0),\n",
       " 99: BalanceSheetRow(brutto=None, korekce=None, netto=38291, netto_minule=-12672),\n",
       " 100: BalanceSheetRow(brutto=None, korekce=None, netto=0, netto_minule=0),\n",
       " 101: BalanceSheetRow(brutto=None, korekce=None, netto=135443, netto_minule=125637),\n",
       " 102: BalanceSheetRow(brutto=None, korekce=None, netto=5067, netto_minule=3159),\n",
       " 103: BalanceSheetRow(brutto=None, korekce=None, netto=0, netto_minule=0),\n",
       " 104: BalanceSheetRow(brutto=None, korekce=None, netto=0, netto_minule=0),\n",
       " 105: BalanceSheetRow(brutto=None, korekce=None, netto=0, netto_minule=0),\n",
       " 106: BalanceSheetRow(brutto=None, korekce=None, netto=5067, netto_minule=3159),\n",
       " 107: BalanceSheetRow(brutto=None, korekce=None, netto=130376, netto_minule=122478),\n",
       " 108: BalanceSheetRow(brutto=None, korekce=None, netto=85629, netto_minule=0),\n",
       " 109: BalanceSheetRow(brutto=None, korekce=None, netto=0, netto_minule=0),\n",
       " 110: BalanceSheetRow(brutto=None, korekce=None, netto=0, netto_minule=0),\n",
       " 111: BalanceSheetRow(brutto=None, korekce=None, netto=0, netto_minule=0),\n",
       " 112: BalanceSheetRow(brutto=None, korekce=None, netto=0, netto_minule=0),\n",
       " 113: BalanceSheetRow(brutto=None, korekce=None, netto=0, netto_minule=0),\n",
       " 114: BalanceSheetRow(brutto=None, korekce=None, netto=0, netto_minule=0),\n",
       " 115: BalanceSheetRow(brutto=None, korekce=None, netto=0, netto_minule=0),\n",
       " 116: BalanceSheetRow(brutto=None, korekce=None, netto=85629, netto_minule=0),\n",
       " 117: BalanceSheetRow(brutto=None, korekce=None, netto=0, netto_minule=0),\n",
       " 118: BalanceSheetRow(brutto=None, korekce=None, netto=0, netto_minule=0),\n",
       " 119: BalanceSheetRow(brutto=None, korekce=None, netto=0, netto_minule=0),\n",
       " 120: BalanceSheetRow(brutto=None, korekce=None, netto=0, netto_minule=0),\n",
       " 121: BalanceSheetRow(brutto=None, korekce=None, netto=0, netto_minule=0),\n",
       " 122: BalanceSheetRow(brutto=None, korekce=None, netto=0, netto_minule=0),\n",
       " 123: BalanceSheetRow(brutto=None, korekce=None, netto=44747, netto_minule=122478),\n",
       " 124: BalanceSheetRow(brutto=None, korekce=None, netto=0, netto_minule=0),\n",
       " 125: BalanceSheetRow(brutto=None, korekce=None, netto=0, netto_minule=0),\n",
       " 126: BalanceSheetRow(brutto=None, korekce=None, netto=0, netto_minule=0),\n",
       " 127: BalanceSheetRow(brutto=None, korekce=None, netto=0, netto_minule=20000),\n",
       " 128: BalanceSheetRow(brutto=None, korekce=None, netto=0, netto_minule=0),\n",
       " 129: BalanceSheetRow(brutto=None, korekce=None, netto=16661, netto_minule=11923),\n",
       " 130: BalanceSheetRow(brutto=None, korekce=None, netto=0, netto_minule=0),\n",
       " 131: BalanceSheetRow(brutto=None, korekce=None, netto=5229, netto_minule=29412),\n",
       " 132: BalanceSheetRow(brutto=None, korekce=None, netto=0, netto_minule=14858),\n",
       " 133: BalanceSheetRow(brutto=None, korekce=None, netto=22857, netto_minule=46285),\n",
       " 134: BalanceSheetRow(brutto=None, korekce=None, netto=0, netto_minule=0),\n",
       " 135: BalanceSheetRow(brutto=None, korekce=None, netto=0, netto_minule=32959),\n",
       " 136: BalanceSheetRow(brutto=None, korekce=None, netto=7400, netto_minule=6043),\n",
       " 137: BalanceSheetRow(brutto=None, korekce=None, netto=3945, netto_minule=3100),\n",
       " 138: BalanceSheetRow(brutto=None, korekce=None, netto=980, netto_minule=646),\n",
       " 139: BalanceSheetRow(brutto=None, korekce=None, netto=10473, netto_minule=3468),\n",
       " 140: BalanceSheetRow(brutto=None, korekce=None, netto=59, netto_minule=69),\n",
       " 141: BalanceSheetRow(brutto=None, korekce=None, netto=300, netto_minule=4856),\n",
       " 142: BalanceSheetRow(brutto=None, korekce=None, netto=117, netto_minule=4804),\n",
       " 143: BalanceSheetRow(brutto=None, korekce=None, netto=183, netto_minule=52)}"
      ]
     },
     "execution_count": 12,
     "metadata": {},
     "output_type": "execute_result"
    }
   ],
   "source": [
    "validated.data"
   ]
  },
  {
   "cell_type": "code",
   "execution_count": 13,
   "id": "a99d6800",
   "metadata": {},
   "outputs": [],
   "source": [
    "response = client.models.generate_content(\n",
    "  model=model_name,\n",
    "  contents=[\n",
    "    types.Part.from_bytes(\n",
    "      data=filepath.read_bytes(),\n",
    "      mime_type='application/pdf'\n",
    "    ),\n",
    "    profit_and_loss_ocr_instructions\n",
    "  ],\n",
    "  config={\n",
    "    \"response_mime_type\": \"application/json\"\n",
    "  },\n",
    ")"
   ]
  },
  {
   "cell_type": "code",
   "execution_count": 14,
   "id": "0cd637e4",
   "metadata": {},
   "outputs": [],
   "source": [
    "try:\n",
    "    ocr_result = json.loads(response.text)\n",
    "except json.JSONDecodeError:\n",
    "    ocr_result = utils.load_json_from_text(response.text)"
   ]
  },
  {
   "cell_type": "code",
   "execution_count": 15,
   "id": "d4216f0c",
   "metadata": {},
   "outputs": [],
   "source": [
    "validated_profit_and_loss = ProfitAndLoss.model_validate_with_tolerance(ocr_result, tolerance=1)"
   ]
  },
  {
   "cell_type": "code",
   "execution_count": 16,
   "id": "a2232ee1",
   "metadata": {},
   "outputs": [
    {
     "data": {
      "text/plain": [
       "{1: ProfitAndLossRow(současné=495982, minulé=371072),\n",
       " 2: ProfitAndLossRow(současné=0, minulé=0),\n",
       " 3: ProfitAndLossRow(současné=171628, minulé=138856),\n",
       " 4: ProfitAndLossRow(současné=0, minulé=0),\n",
       " 5: ProfitAndLossRow(současné=67266, minulé=61876),\n",
       " 6: ProfitAndLossRow(současné=104362, minulé=76980),\n",
       " 7: ProfitAndLossRow(současné=-6481, minulé=-4383),\n",
       " 8: ProfitAndLossRow(současné=0, minulé=0),\n",
       " 9: ProfitAndLossRow(současné=133405, minulé=120619),\n",
       " 10: ProfitAndLossRow(současné=98997, minulé=89546),\n",
       " 11: ProfitAndLossRow(současné=34408, minulé=31073),\n",
       " 12: ProfitAndLossRow(současné=32436, minulé=29541),\n",
       " 13: ProfitAndLossRow(současné=1972, minulé=1532),\n",
       " 14: ProfitAndLossRow(současné=18687, minulé=19122),\n",
       " 15: ProfitAndLossRow(současné=18687, minulé=19122),\n",
       " 16: ProfitAndLossRow(současné=18687, minulé=19122),\n",
       " 17: ProfitAndLossRow(současné=0, minulé=0),\n",
       " 18: ProfitAndLossRow(současné=0, minulé=0),\n",
       " 19: ProfitAndLossRow(současné=0, minulé=0),\n",
       " 20: ProfitAndLossRow(současné=235, minulé=54),\n",
       " 21: ProfitAndLossRow(současné=3, minulé=9),\n",
       " 22: ProfitAndLossRow(současné=0, minulé=0),\n",
       " 23: ProfitAndLossRow(současné=232, minulé=45),\n",
       " 24: ProfitAndLossRow(současné=127251, minulé=102234),\n",
       " 25: ProfitAndLossRow(současné=0, minulé=125),\n",
       " 26: ProfitAndLossRow(současné=0, minulé=0),\n",
       " 27: ProfitAndLossRow(současné=93, minulé=136),\n",
       " 28: ProfitAndLossRow(současné=-99, minulé=-872),\n",
       " 29: ProfitAndLossRow(současné=127257, minulé=102845),\n",
       " 30: ProfitAndLossRow(současné=51727, minulé=-5322),\n",
       " 31: ProfitAndLossRow(současné=0, minulé=0),\n",
       " 32: ProfitAndLossRow(současné=0, minulé=0),\n",
       " 33: ProfitAndLossRow(současné=0, minulé=0),\n",
       " 34: ProfitAndLossRow(současné=0, minulé=0),\n",
       " 35: ProfitAndLossRow(současné=0, minulé=0),\n",
       " 36: ProfitAndLossRow(současné=0, minulé=0),\n",
       " 37: ProfitAndLossRow(současné=0, minulé=0),\n",
       " 38: ProfitAndLossRow(současné=0, minulé=0),\n",
       " 39: ProfitAndLossRow(současné=860, minulé=48),\n",
       " 40: ProfitAndLossRow(současné=0, minulé=0),\n",
       " 41: ProfitAndLossRow(současné=860, minulé=48),\n",
       " 42: ProfitAndLossRow(současné=0, minulé=0),\n",
       " 43: ProfitAndLossRow(současné=8232, minulé=4804),\n",
       " 44: ProfitAndLossRow(současné=7745, minulé=1409),\n",
       " 45: ProfitAndLossRow(současné=487, minulé=3395),\n",
       " 46: ProfitAndLossRow(současné=25, minulé=29),\n",
       " 47: ProfitAndLossRow(současné=6089, minulé=2623),\n",
       " 48: ProfitAndLossRow(současné=-13436, minulé=-7350),\n",
       " 49: ProfitAndLossRow(současné=38291, minulé=-12672),\n",
       " 50: ProfitAndLossRow(současné=0, minulé=0),\n",
       " 51: ProfitAndLossRow(současné=0, minulé=0),\n",
       " 52: ProfitAndLossRow(současné=0, minulé=0),\n",
       " 53: ProfitAndLossRow(současné=38291, minulé=-12672),\n",
       " 54: ProfitAndLossRow(současné=0, minulé=0),\n",
       " 55: ProfitAndLossRow(současné=38291, minulé=-12672),\n",
       " 56: ProfitAndLossRow(současné=495982, minulé=0)}"
      ]
     },
     "execution_count": 16,
     "metadata": {},
     "output_type": "execute_result"
    }
   ],
   "source": [
    "validated_profit_and_loss.data"
   ]
  },
  {
   "cell_type": "code",
   "execution_count": 17,
   "id": "d08a8ba5",
   "metadata": {},
   "outputs": [
    {
     "data": {
      "text/plain": [
       "True"
      ]
     },
     "execution_count": 17,
     "metadata": {},
     "output_type": "execute_result"
    }
   ],
   "source": [
    "validated.data[99].netto  == validated_profit_and_loss.data[53].současné"
   ]
  },
  {
   "cell_type": "code",
   "execution_count": 18,
   "id": "e464f4ef",
   "metadata": {},
   "outputs": [
    {
     "data": {
      "text/plain": [
       "True"
      ]
     },
     "execution_count": 18,
     "metadata": {},
     "output_type": "execute_result"
    }
   ],
   "source": [
    "validated.data[99].netto_minule  == validated_profit_and_loss.data[53].minulé"
   ]
  }
 ],
 "metadata": {
  "kernelspec": {
   "display_name": "Python 3 (ipykernel)",
   "language": "python",
   "name": "python3"
  },
  "language_info": {
   "codemirror_mode": {
    "name": "ipython",
    "version": 3
   },
   "file_extension": ".py",
   "mimetype": "text/x-python",
   "name": "python",
   "nbconvert_exporter": "python",
   "pygments_lexer": "ipython3",
   "version": "3.10.12"
  }
 },
 "nbformat": 4,
 "nbformat_minor": 5
}
