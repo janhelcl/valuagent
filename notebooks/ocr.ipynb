{
 "cells": [
  {
   "cell_type": "markdown",
   "id": "7b5ae328",
   "metadata": {},
   "source": [
    "# OCR Financial Statements Example\n",
    "\n",
    "This notebook demonstrates how to use the Valuagent OCR capabilities to extract financial data from PDF documents.\n",
    "\n",
    "## Prerequisites\n",
    "\n",
    "Before running this notebook, make sure you have:\n",
    "\n",
    "1. **Environment Variables**: Create a `.env` file in the project root with:\n",
    "   ```\n",
    "   GOOGLE_API_KEY=your_google_api_key_here\n",
    "   GENAI_MODEL=gemini-2.5-pro  # optional, defaults to gemini-2.5-pro\n",
    "   ```\n",
    "\n",
    "2. **Sample Data**: The notebook uses sample PDF files from the `sample_data/` directory.\n",
    "\n",
    "3. **Dependencies**: Install all dependencies using Poetry:\n",
    "   ```bash\n",
    "   poetry install\n",
    "   ```\n"
   ]
  },
  {
   "cell_type": "code",
   "execution_count": null,
   "id": "94aa17e7",
   "metadata": {},
   "outputs": [],
   "source": [
    "import sys\n",
    "import pathlib\n",
    "project_root = pathlib.Path.cwd()\n",
    "if (project_root / \"src\").exists():\n",
    "    sys.path.insert(0, str(project_root))\n",
    "elif (project_root.parent / \"src\").exists():\n",
    "    sys.path.insert(0, str(project_root.parent))\n"
   ]
  },
  {
   "cell_type": "code",
   "execution_count": 9,
   "id": "aac156f0",
   "metadata": {},
   "outputs": [],
   "source": [
    "import base64\n",
    "import os\n",
    "import pathlib\n",
    "import json\n",
    "\n",
    "from dotenv import load_dotenv\n",
    "\n",
    "from src.domain.prompts.balance_sheet import balance_sheet_ocr_instructions\n",
    "from src.domain.prompts.profit_and_loss import profit_and_loss_ocr_instructions\n",
    "from src.domain.prompts.statement_disambiguation import statement_disambiguation_instructions\n",
    "\n",
    "from src.domain.models.balance_sheet import BalanceSheet\n",
    "from src.domain.models.profit_and_loss import ProfitAndLoss\n",
    "from src.shared import utils\n",
    "from src.infrastructure.clients.genai_client import generate_json_from_pdf_async"
   ]
  },
  {
   "cell_type": "code",
   "execution_count": 10,
   "id": "3d91c0bd",
   "metadata": {},
   "outputs": [],
   "source": [
    "%reload_ext autoreload\n",
    "%autoreload 2"
   ]
  },
  {
   "cell_type": "code",
   "execution_count": 11,
   "id": "4b42047b",
   "metadata": {},
   "outputs": [],
   "source": [
    "load_dotenv();"
   ]
  },
  {
   "cell_type": "code",
   "execution_count": 12,
   "id": "29f779ce",
   "metadata": {},
   "outputs": [],
   "source": [
    "# Retrieve and encode the PDF byte\n",
    "# filepath = pathlib.Path('sample_data/bohm/výkazy 2024 Bohm Plast CZ.pdf')\n",
    "filepath = pathlib.Path('sample_data/Výroční zpráva ZS Dublovice včetně zprávy auditora 2024.pdf')\n",
    "\n",
    "model_name = os.getenv(\"GENAI_MODEL\", \"gemini-2.5-pro\")"
   ]
  },
  {
   "cell_type": "code",
   "execution_count": 13,
   "id": "3bc58428",
   "metadata": {},
   "outputs": [],
   "source": [
    "response_text = await generate_json_from_pdf_async(\n",
    "    pdf_bytes=filepath.read_bytes(),\n",
    "    prompt=statement_disambiguation_instructions,\n",
    "    model=model_name\n",
    ")"
   ]
  },
  {
   "cell_type": "code",
   "execution_count": 14,
   "id": "4fa1039f",
   "metadata": {},
   "outputs": [],
   "source": [
    "try:\n",
    "    disambiguation_result = json.loads(response_text)\n",
    "except json.JSONDecodeError:\n",
    "    disambiguation_result = utils.load_json_from_text(response_text)"
   ]
  },
  {
   "cell_type": "code",
   "execution_count": 15,
   "id": "1765cc78",
   "metadata": {},
   "outputs": [],
   "source": [
    "response_text = await generate_json_from_pdf_async(\n",
    "    pdf_bytes=filepath.read_bytes(),\n",
    "    prompt=balance_sheet_ocr_instructions,\n",
    "    model=model_name\n",
    ")"
   ]
  },
  {
   "cell_type": "code",
   "execution_count": 16,
   "id": "467aa1e9",
   "metadata": {},
   "outputs": [],
   "source": [
    "try:\n",
    "    ocr_result = json.loads(response_text)\n",
    "except json.JSONDecodeError:\n",
    "    ocr_result = utils.load_json_from_text(response_text)"
   ]
  },
  {
   "cell_type": "code",
   "execution_count": 17,
   "id": "2b6f7a66",
   "metadata": {},
   "outputs": [],
   "source": [
    "validated = BalanceSheet.model_validate_with_tolerance(ocr_result, tolerance=1)"
   ]
  },
  {
   "cell_type": "code",
   "execution_count": 18,
   "id": "3222d6c5",
   "metadata": {},
   "outputs": [
    {
     "data": {
      "text/plain": [
       "{1: BalanceSheetRow(brutto=783093, korekce=356515, netto=426578, netto_minule=436197),\n",
       " 2: BalanceSheetRow(brutto=0, korekce=0, netto=0, netto_minule=0),\n",
       " 3: BalanceSheetRow(brutto=664524, korekce=356328, netto=308196, netto_minule=318187),\n",
       " 4: BalanceSheetRow(brutto=0, korekce=0, netto=0, netto_minule=0),\n",
       " 5: BalanceSheetRow(brutto=0, korekce=0, netto=0, netto_minule=0),\n",
       " 6: BalanceSheetRow(brutto=0, korekce=0, netto=0, netto_minule=0),\n",
       " 7: BalanceSheetRow(brutto=0, korekce=0, netto=0, netto_minule=0),\n",
       " 8: BalanceSheetRow(brutto=0, korekce=0, netto=0, netto_minule=0),\n",
       " 9: BalanceSheetRow(brutto=0, korekce=0, netto=0, netto_minule=0),\n",
       " 10: BalanceSheetRow(brutto=0, korekce=0, netto=0, netto_minule=0),\n",
       " 11: BalanceSheetRow(brutto=0, korekce=0, netto=0, netto_minule=0),\n",
       " 12: BalanceSheetRow(brutto=0, korekce=0, netto=0, netto_minule=0),\n",
       " 13: BalanceSheetRow(brutto=0, korekce=0, netto=0, netto_minule=0),\n",
       " 14: BalanceSheetRow(brutto=664311, korekce=356317, netto=307994, netto_minule=317985),\n",
       " 15: BalanceSheetRow(brutto=369148, korekce=112510, netto=256638, netto_minule=260540),\n",
       " 16: BalanceSheetRow(brutto=138417, korekce=0, netto=138417, netto_minule=136332),\n",
       " 17: BalanceSheetRow(brutto=230731, korekce=112510, netto=118221, netto_minule=124208),\n",
       " 18: BalanceSheetRow(brutto=281512, korekce=238455, netto=43057, netto_minule=50332),\n",
       " 19: BalanceSheetRow(brutto=0, korekce=0, netto=0, netto_minule=0),\n",
       " 20: BalanceSheetRow(brutto=11486, korekce=5352, netto=6134, netto_minule=6469),\n",
       " 21: BalanceSheetRow(brutto=23, korekce=23, netto=0, netto_minule=0),\n",
       " 22: BalanceSheetRow(brutto=11463, korekce=5329, netto=6134, netto_minule=6469),\n",
       " 23: BalanceSheetRow(brutto=0, korekce=0, netto=0, netto_minule=0),\n",
       " 24: BalanceSheetRow(brutto=2165, korekce=0, netto=2165, netto_minule=644),\n",
       " 25: BalanceSheetRow(brutto=0, korekce=0, netto=0, netto_minule=0),\n",
       " 26: BalanceSheetRow(brutto=2165, korekce=0, netto=2165, netto_minule=644),\n",
       " 27: BalanceSheetRow(brutto=213, korekce=11, netto=202, netto_minule=202),\n",
       " 28: BalanceSheetRow(brutto=195, korekce=0, netto=195, netto_minule=195),\n",
       " 29: BalanceSheetRow(brutto=0, korekce=0, netto=0, netto_minule=0),\n",
       " 30: BalanceSheetRow(brutto=0, korekce=0, netto=0, netto_minule=0),\n",
       " 31: BalanceSheetRow(brutto=0, korekce=0, netto=0, netto_minule=0),\n",
       " 32: BalanceSheetRow(brutto=18, korekce=11, netto=7, netto_minule=7),\n",
       " 33: BalanceSheetRow(brutto=0, korekce=0, netto=0, netto_minule=0),\n",
       " 34: BalanceSheetRow(brutto=0, korekce=0, netto=0, netto_minule=0),\n",
       " 35: BalanceSheetRow(brutto=0, korekce=0, netto=0, netto_minule=0),\n",
       " 36: BalanceSheetRow(brutto=0, korekce=0, netto=0, netto_minule=0),\n",
       " 37: BalanceSheetRow(brutto=107480, korekce=187, netto=107293, netto_minule=106631),\n",
       " 38: BalanceSheetRow(brutto=72868, korekce=187, netto=72681, netto_minule=64205),\n",
       " 39: BalanceSheetRow(brutto=16008, korekce=187, netto=15821, netto_minule=22220),\n",
       " 40: BalanceSheetRow(brutto=8007, korekce=0, netto=8007, netto_minule=5965),\n",
       " 41: BalanceSheetRow(brutto=35184, korekce=0, netto=35184, netto_minule=25894),\n",
       " 42: BalanceSheetRow(brutto=35184, korekce=0, netto=35184, netto_minule=25894),\n",
       " 43: BalanceSheetRow(brutto=0, korekce=0, netto=0, netto_minule=0),\n",
       " 44: BalanceSheetRow(brutto=13669, korekce=0, netto=13669, netto_minule=10126),\n",
       " 45: BalanceSheetRow(brutto=0, korekce=0, netto=0, netto_minule=0),\n",
       " 46: BalanceSheetRow(brutto=26534, korekce=0, netto=26534, netto_minule=32328),\n",
       " 47: BalanceSheetRow(brutto=0, korekce=0, netto=0, netto_minule=0),\n",
       " 48: BalanceSheetRow(brutto=0, korekce=0, netto=0, netto_minule=0),\n",
       " 49: BalanceSheetRow(brutto=0, korekce=0, netto=0, netto_minule=0),\n",
       " 50: BalanceSheetRow(brutto=0, korekce=0, netto=0, netto_minule=0),\n",
       " 51: BalanceSheetRow(brutto=0, korekce=0, netto=0, netto_minule=0),\n",
       " 52: BalanceSheetRow(brutto=0, korekce=0, netto=0, netto_minule=0),\n",
       " 53: BalanceSheetRow(brutto=0, korekce=0, netto=0, netto_minule=0),\n",
       " 54: BalanceSheetRow(brutto=0, korekce=0, netto=0, netto_minule=0),\n",
       " 55: BalanceSheetRow(brutto=0, korekce=0, netto=0, netto_minule=0),\n",
       " 56: BalanceSheetRow(brutto=0, korekce=0, netto=0, netto_minule=0),\n",
       " 57: BalanceSheetRow(brutto=26534, korekce=0, netto=26534, netto_minule=32328),\n",
       " 58: BalanceSheetRow(brutto=12178, korekce=0, netto=12178, netto_minule=17380),\n",
       " 59: BalanceSheetRow(brutto=0, korekce=0, netto=0, netto_minule=0),\n",
       " 60: BalanceSheetRow(brutto=0, korekce=0, netto=0, netto_minule=0),\n",
       " 61: BalanceSheetRow(brutto=14356, korekce=0, netto=14356, netto_minule=14948),\n",
       " 62: BalanceSheetRow(brutto=0, korekce=0, netto=0, netto_minule=0),\n",
       " 63: BalanceSheetRow(brutto=0, korekce=0, netto=0, netto_minule=0),\n",
       " 64: BalanceSheetRow(brutto=5743, korekce=0, netto=5743, netto_minule=3925),\n",
       " 65: BalanceSheetRow(brutto=365, korekce=0, netto=365, netto_minule=1775),\n",
       " 66: BalanceSheetRow(brutto=8243, korekce=0, netto=8243, netto_minule=9219),\n",
       " 67: BalanceSheetRow(brutto=5, korekce=0, netto=5, netto_minule=29),\n",
       " 68: BalanceSheetRow(brutto=0, korekce=0, netto=0, netto_minule=0),\n",
       " 69: BalanceSheetRow(brutto=0, korekce=0, netto=0, netto_minule=0),\n",
       " 70: BalanceSheetRow(brutto=0, korekce=0, netto=0, netto_minule=0),\n",
       " 71: BalanceSheetRow(brutto=8078, korekce=0, netto=8078, netto_minule=10098),\n",
       " 72: BalanceSheetRow(brutto=60, korekce=0, netto=60, netto_minule=76),\n",
       " 73: BalanceSheetRow(brutto=8018, korekce=0, netto=8018, netto_minule=10022),\n",
       " 74: BalanceSheetRow(brutto=11089, korekce=0, netto=11089, netto_minule=11379),\n",
       " 75: BalanceSheetRow(brutto=1130, korekce=0, netto=1130, netto_minule=1197),\n",
       " 76: BalanceSheetRow(brutto=0, korekce=0, netto=0, netto_minule=0),\n",
       " 77: BalanceSheetRow(brutto=9959, korekce=0, netto=9959, netto_minule=10182),\n",
       " 78: BalanceSheetRow(brutto=None, korekce=None, netto=426578, netto_minule=436197),\n",
       " 79: BalanceSheetRow(brutto=None, korekce=None, netto=332702, netto_minule=320963),\n",
       " 80: BalanceSheetRow(brutto=None, korekce=None, netto=50037, netto_minule=50037),\n",
       " 81: BalanceSheetRow(brutto=None, korekce=None, netto=52289, netto_minule=52289),\n",
       " 82: BalanceSheetRow(brutto=None, korekce=None, netto=-2252, netto_minule=-2252),\n",
       " 83: BalanceSheetRow(brutto=None, korekce=None, netto=0, netto_minule=0),\n",
       " 84: BalanceSheetRow(brutto=None, korekce=None, netto=588, netto_minule=588),\n",
       " 85: BalanceSheetRow(brutto=None, korekce=None, netto=0, netto_minule=0),\n",
       " 86: BalanceSheetRow(brutto=None, korekce=None, netto=588, netto_minule=588),\n",
       " 87: BalanceSheetRow(brutto=None, korekce=None, netto=588, netto_minule=588),\n",
       " 88: BalanceSheetRow(brutto=None, korekce=None, netto=0, netto_minule=0),\n",
       " 89: BalanceSheetRow(brutto=None, korekce=None, netto=0, netto_minule=0),\n",
       " 90: BalanceSheetRow(brutto=None, korekce=None, netto=0, netto_minule=0),\n",
       " 91: BalanceSheetRow(brutto=None, korekce=None, netto=0, netto_minule=0),\n",
       " 92: BalanceSheetRow(brutto=None, korekce=None, netto=269890, netto_minule=265318),\n",
       " 93: BalanceSheetRow(brutto=None, korekce=None, netto=170107, netto_minule=165787),\n",
       " 94: BalanceSheetRow(brutto=None, korekce=None, netto=99783, netto_minule=99531),\n",
       " 95: BalanceSheetRow(brutto=None, korekce=None, netto=0, netto_minule=0),\n",
       " 96: BalanceSheetRow(brutto=None, korekce=None, netto=0, netto_minule=0),\n",
       " 97: BalanceSheetRow(brutto=None, korekce=None, netto=0, netto_minule=0),\n",
       " 98: BalanceSheetRow(brutto=None, korekce=None, netto=0, netto_minule=0),\n",
       " 99: BalanceSheetRow(brutto=None, korekce=None, netto=12187, netto_minule=5020),\n",
       " 100: BalanceSheetRow(brutto=None, korekce=None, netto=0, netto_minule=0),\n",
       " 101: BalanceSheetRow(brutto=None, korekce=None, netto=91417, netto_minule=114995),\n",
       " 102: BalanceSheetRow(brutto=None, korekce=None, netto=10255, netto_minule=5255),\n",
       " 103: BalanceSheetRow(brutto=None, korekce=None, netto=0, netto_minule=0),\n",
       " 104: BalanceSheetRow(brutto=None, korekce=None, netto=0, netto_minule=0),\n",
       " 105: BalanceSheetRow(brutto=None, korekce=None, netto=255, netto_minule=255),\n",
       " 106: BalanceSheetRow(brutto=None, korekce=None, netto=10000, netto_minule=5000),\n",
       " 107: BalanceSheetRow(brutto=None, korekce=None, netto=81162, netto_minule=109740),\n",
       " 108: BalanceSheetRow(brutto=None, korekce=None, netto=48751, netto_minule=63585),\n",
       " 109: BalanceSheetRow(brutto=None, korekce=None, netto=0, netto_minule=0),\n",
       " 110: BalanceSheetRow(brutto=None, korekce=None, netto=0, netto_minule=0),\n",
       " 111: BalanceSheetRow(brutto=None, korekce=None, netto=0, netto_minule=0),\n",
       " 112: BalanceSheetRow(brutto=None, korekce=None, netto=35607, netto_minule=44368),\n",
       " 113: BalanceSheetRow(brutto=None, korekce=None, netto=0, netto_minule=0),\n",
       " 114: BalanceSheetRow(brutto=None, korekce=None, netto=0, netto_minule=0),\n",
       " 115: BalanceSheetRow(brutto=None, korekce=None, netto=0, netto_minule=0),\n",
       " 116: BalanceSheetRow(brutto=None, korekce=None, netto=0, netto_minule=0),\n",
       " 117: BalanceSheetRow(brutto=None, korekce=None, netto=0, netto_minule=0),\n",
       " 118: BalanceSheetRow(brutto=None, korekce=None, netto=6316, netto_minule=12164),\n",
       " 119: BalanceSheetRow(brutto=None, korekce=None, netto=6828, netto_minule=7053),\n",
       " 120: BalanceSheetRow(brutto=None, korekce=None, netto=0, netto_minule=0),\n",
       " 121: BalanceSheetRow(brutto=None, korekce=None, netto=0, netto_minule=0),\n",
       " 122: BalanceSheetRow(brutto=None, korekce=None, netto=6828, netto_minule=7053),\n",
       " 123: BalanceSheetRow(brutto=None, korekce=None, netto=32411, netto_minule=46155),\n",
       " 124: BalanceSheetRow(brutto=None, korekce=None, netto=0, netto_minule=0),\n",
       " 125: BalanceSheetRow(brutto=None, korekce=None, netto=0, netto_minule=0),\n",
       " 126: BalanceSheetRow(brutto=None, korekce=None, netto=0, netto_minule=0),\n",
       " 127: BalanceSheetRow(brutto=None, korekce=None, netto=23351, netto_minule=31417),\n",
       " 128: BalanceSheetRow(brutto=None, korekce=None, netto=2, netto_minule=2),\n",
       " 129: BalanceSheetRow(brutto=None, korekce=None, netto=6515, netto_minule=11704),\n",
       " 130: BalanceSheetRow(brutto=None, korekce=None, netto=0, netto_minule=0),\n",
       " 131: BalanceSheetRow(brutto=None, korekce=None, netto=0, netto_minule=0),\n",
       " 132: BalanceSheetRow(brutto=None, korekce=None, netto=0, netto_minule=0),\n",
       " 133: BalanceSheetRow(brutto=None, korekce=None, netto=2543, netto_minule=3032),\n",
       " 134: BalanceSheetRow(brutto=None, korekce=None, netto=155, netto_minule=17),\n",
       " 135: BalanceSheetRow(brutto=None, korekce=None, netto=0, netto_minule=0),\n",
       " 136: BalanceSheetRow(brutto=None, korekce=None, netto=1214, netto_minule=1332),\n",
       " 137: BalanceSheetRow(brutto=None, korekce=None, netto=728, netto_minule=791),\n",
       " 138: BalanceSheetRow(brutto=None, korekce=None, netto=129, netto_minule=155),\n",
       " 139: BalanceSheetRow(brutto=None, korekce=None, netto=0, netto_minule=6),\n",
       " 140: BalanceSheetRow(brutto=None, korekce=None, netto=317, netto_minule=731),\n",
       " 141: BalanceSheetRow(brutto=None, korekce=None, netto=2459, netto_minule=239),\n",
       " 142: BalanceSheetRow(brutto=None, korekce=None, netto=2454, netto_minule=239),\n",
       " 143: BalanceSheetRow(brutto=None, korekce=None, netto=5, netto_minule=0)}"
      ]
     },
     "execution_count": 18,
     "metadata": {},
     "output_type": "execute_result"
    }
   ],
   "source": [
    "validated.data"
   ]
  },
  {
   "cell_type": "code",
   "execution_count": 19,
   "id": "a99d6800",
   "metadata": {},
   "outputs": [],
   "source": [
    "response_text = await generate_json_from_pdf_async(\n",
    "    pdf_bytes=filepath.read_bytes(),\n",
    "    prompt=profit_and_loss_ocr_instructions,\n",
    "    model=model_name\n",
    ")"
   ]
  },
  {
   "cell_type": "code",
   "execution_count": 20,
   "id": "0cd637e4",
   "metadata": {},
   "outputs": [],
   "source": [
    "try:\n",
    "    ocr_result = json.loads(response_text)\n",
    "except json.JSONDecodeError:\n",
    "    ocr_result = utils.load_json_from_text(response_text)"
   ]
  },
  {
   "cell_type": "code",
   "execution_count": 21,
   "id": "d4216f0c",
   "metadata": {},
   "outputs": [],
   "source": [
    "validated_profit_and_loss = ProfitAndLoss.model_validate_with_tolerance(ocr_result, tolerance=1)"
   ]
  },
  {
   "cell_type": "code",
   "execution_count": 22,
   "id": "a2232ee1",
   "metadata": {},
   "outputs": [
    {
     "data": {
      "text/plain": [
       "{1: ProfitAndLossRow(současné=141287, minulé=175888),\n",
       " 2: ProfitAndLossRow(současné=0, minulé=0),\n",
       " 3: ProfitAndLossRow(současné=117794, minulé=107696),\n",
       " 4: ProfitAndLossRow(současné=0, minulé=0),\n",
       " 5: ProfitAndLossRow(současné=70745, minulé=66315),\n",
       " 6: ProfitAndLossRow(současné=47049, minulé=41381),\n",
       " 7: ProfitAndLossRow(současné=-14539, minulé=19045),\n",
       " 8: ProfitAndLossRow(současné=-3923, minulé=-4633),\n",
       " 9: ProfitAndLossRow(současné=27486, minulé=26891),\n",
       " 10: ProfitAndLossRow(současné=19283, minulé=18924),\n",
       " 11: ProfitAndLossRow(současné=8203, minulé=7967),\n",
       " 12: ProfitAndLossRow(současné=6591, minulé=6308),\n",
       " 13: ProfitAndLossRow(současné=1612, minulé=1659),\n",
       " 14: ProfitAndLossRow(současné=18102, minulé=22534),\n",
       " 15: ProfitAndLossRow(současné=22080, minulé=22049),\n",
       " 16: ProfitAndLossRow(současné=22080, minulé=22049),\n",
       " 17: ProfitAndLossRow(současné=0, minulé=0),\n",
       " 18: ProfitAndLossRow(současné=-3978, minulé=485),\n",
       " 19: ProfitAndLossRow(současné=0, minulé=0),\n",
       " 20: ProfitAndLossRow(současné=25670, minulé=31248),\n",
       " 21: ProfitAndLossRow(současné=3258, minulé=3191),\n",
       " 22: ProfitAndLossRow(současné=109, minulé=128),\n",
       " 23: ProfitAndLossRow(současné=22303, minulé=27929),\n",
       " 24: ProfitAndLossRow(současné=9838, minulé=17371),\n",
       " 25: ProfitAndLossRow(současné=1765, minulé=1674),\n",
       " 26: ProfitAndLossRow(současné=12, minulé=17),\n",
       " 27: ProfitAndLossRow(současné=1633, minulé=21827),\n",
       " 28: ProfitAndLossRow(současné=5000, minulé=-7500),\n",
       " 29: ProfitAndLossRow(současné=1428, minulé=1353),\n",
       " 30: ProfitAndLossRow(současné=12199, minulé=18232),\n",
       " 31: ProfitAndLossRow(současné=0, minulé=0),\n",
       " 32: ProfitAndLossRow(současné=0, minulé=0),\n",
       " 9991: ProfitAndLossRow(současné=0, minulé=0),\n",
       " 9992: ProfitAndLossRow(současné=0, minulé=0),\n",
       " 33: ProfitAndLossRow(současné=0, minulé=0),\n",
       " 9993: ProfitAndLossRow(současné=0, minulé=0),\n",
       " 9994: ProfitAndLossRow(současné=0, minulé=0),\n",
       " 34: ProfitAndLossRow(současné=0, minulé=0),\n",
       " 35: ProfitAndLossRow(současné=0, minulé=0),\n",
       " 36: ProfitAndLossRow(současné=0, minulé=0),\n",
       " 37: ProfitAndLossRow(současné=0, minulé=0),\n",
       " 38: ProfitAndLossRow(současné=0, minulé=0),\n",
       " 39: ProfitAndLossRow(současné=425, minulé=738),\n",
       " 40: ProfitAndLossRow(současné=0, minulé=0),\n",
       " 41: ProfitAndLossRow(současné=425, minulé=738),\n",
       " 42: ProfitAndLossRow(současné=0, minulé=0),\n",
       " 43: ProfitAndLossRow(současné=4064, minulé=5706),\n",
       " 44: ProfitAndLossRow(současné=0, minulé=0),\n",
       " 45: ProfitAndLossRow(současné=4064, minulé=5706),\n",
       " 46: ProfitAndLossRow(současné=44, minulé=118),\n",
       " 47: ProfitAndLossRow(současné=135, minulé=154),\n",
       " 48: ProfitAndLossRow(současné=-3730, minulé=-5004),\n",
       " 49: ProfitAndLossRow(současné=8469, minulé=13228),\n",
       " 50: ProfitAndLossRow(současné=-3718, minulé=8208),\n",
       " 51: ProfitAndLossRow(současné=2129, minulé=1400),\n",
       " 52: ProfitAndLossRow(současné=-5847, minulé=6808),\n",
       " 53: ProfitAndLossRow(současné=12187, minulé=5020),\n",
       " 54: ProfitAndLossRow(současné=0, minulé=0),\n",
       " 55: ProfitAndLossRow(současné=12187, minulé=5020),\n",
       " 56: ProfitAndLossRow(současné=163268, minulé=0),\n",
       " 9995: ProfitAndLossRow(současné=0, minulé=0)}"
      ]
     },
     "execution_count": 22,
     "metadata": {},
     "output_type": "execute_result"
    }
   ],
   "source": [
    "validated_profit_and_loss.data"
   ]
  },
  {
   "cell_type": "code",
   "execution_count": 23,
   "id": "d08a8ba5",
   "metadata": {},
   "outputs": [
    {
     "data": {
      "text/plain": [
       "True"
      ]
     },
     "execution_count": 23,
     "metadata": {},
     "output_type": "execute_result"
    }
   ],
   "source": [
    "validated.data[99].netto  == validated_profit_and_loss.data[53].současné"
   ]
  },
  {
   "cell_type": "code",
   "execution_count": 24,
   "id": "e464f4ef",
   "metadata": {},
   "outputs": [
    {
     "data": {
      "text/plain": [
       "True"
      ]
     },
     "execution_count": 24,
     "metadata": {},
     "output_type": "execute_result"
    }
   ],
   "source": [
    "validated.data[99].netto_minule  == validated_profit_and_loss.data[53].minulé"
   ]
  }
 ],
 "metadata": {
  "kernelspec": {
   "display_name": "Python 3 (ipykernel)",
   "language": "python",
   "name": "python3"
  },
  "language_info": {
   "codemirror_mode": {
    "name": "ipython",
    "version": 3
   },
   "file_extension": ".py",
   "mimetype": "text/x-python",
   "name": "python",
   "nbconvert_exporter": "python",
   "pygments_lexer": "ipython3",
   "version": "3.13.5"
  }
 },
 "nbformat": 4,
 "nbformat_minor": 5
}
