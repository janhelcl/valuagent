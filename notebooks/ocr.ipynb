{
 "cells": [
  {
   "cell_type": "code",
   "execution_count": 1,
   "id": "94aa17e7",
   "metadata": {},
   "outputs": [],
   "source": [
    "# Ensure project root is on sys.path so `src` package is importable\n",
    "import sys\n",
    "import pathlib\n",
    "project_root = pathlib.Path.cwd()\n",
    "if (project_root / \"src\").exists():\n",
    "    sys.path.insert(0, str(project_root))\n",
    "elif (project_root.parent / \"src\").exists():\n",
    "    sys.path.insert(0, str(project_root.parent))\n"
   ]
  },
  {
   "cell_type": "code",
   "execution_count": 2,
   "id": "aac156f0",
   "metadata": {},
   "outputs": [],
   "source": [
    "import base64\n",
    "import os\n",
    "import pathlib\n",
    "import json\n",
    "\n",
    "from dotenv import load_dotenv\n",
    "from google import genai\n",
    "from google.genai import types\n",
    "\n",
    "from src.domain.prompts.balance_sheet import balance_sheet_ocr_instructions\n",
    "from src.domain.prompts.profit_and_loss import profit_and_loss_ocr_instructions\n",
    "from src.domain.prompts.statement_disambiguation import statement_disambiguation_instructions\n",
    "\n",
    "from src.domain.models.balance_sheet import BalanceSheet\n",
    "from src.domain.models.profit_and_loss import ProfitAndLoss\n",
    "from src.shared import utils"
   ]
  },
  {
   "cell_type": "code",
   "execution_count": 3,
   "id": "3d91c0bd",
   "metadata": {},
   "outputs": [],
   "source": [
    "%reload_ext autoreload\n",
    "%autoreload 2"
   ]
  },
  {
   "cell_type": "code",
   "execution_count": 4,
   "id": "4b42047b",
   "metadata": {},
   "outputs": [],
   "source": [
    "load_dotenv();"
   ]
  },
  {
   "cell_type": "code",
   "execution_count": 5,
   "id": "29f779ce",
   "metadata": {},
   "outputs": [],
   "source": [
    "client = genai.Client()\n",
    "\n",
    "# Retrieve and encode the PDF byte\n",
    "filepath = pathlib.Path('sample_data/bohm/výkazy 2024 Bohm Plast CZ.pdf')\n",
    "# filepath = pathlib.Path('sample_data/Výroční zpráva ZS Dublovice včetně zprávy auditora 2024.pdf')\n",
    "\n",
    "model_name = os.getenv(\"GENAI_MODEL\", \"gemini-2.5-pro\")"
   ]
  },
  {
   "cell_type": "code",
   "execution_count": 6,
   "id": "3bc58428",
   "metadata": {},
   "outputs": [],
   "source": [
    "response = client.models.generate_content(\n",
    "  model=model_name,\n",
    "  contents=[\n",
    "    types.Part.from_bytes(\n",
    "      data=filepath.read_bytes(),\n",
    "      mime_type='application/pdf'\n",
    "    ),\n",
    "    statement_disambiguation_instructions\n",
    "  ],\n",
    "  config={\n",
    "    \"response_mime_type\": \"application/json\"\n",
    "  },\n",
    ")"
   ]
  },
  {
   "cell_type": "code",
   "execution_count": 7,
   "id": "4fa1039f",
   "metadata": {},
   "outputs": [],
   "source": [
    "disambiguation_result = json.loads(response.text)"
   ]
  },
  {
   "cell_type": "code",
   "execution_count": 8,
   "id": "2aacbbc8",
   "metadata": {},
   "outputs": [
    {
     "data": {
      "text/plain": [
       "{'rozvaha': True, 'výkaz_zisku_a_ztráty': True, 'datum': '2024-12-31'}"
      ]
     },
     "execution_count": 8,
     "metadata": {},
     "output_type": "execute_result"
    }
   ],
   "source": [
    "disambiguation_result"
   ]
  },
  {
   "cell_type": "code",
   "execution_count": 9,
   "id": "1765cc78",
   "metadata": {},
   "outputs": [],
   "source": [
    "response = client.models.generate_content(\n",
    "  model=model_name,\n",
    "  contents=[\n",
    "    types.Part.from_bytes(\n",
    "      data=filepath.read_bytes(),\n",
    "      mime_type='application/pdf'\n",
    "    ),\n",
    "    balance_sheet_ocr_instructions\n",
    "  ],\n",
    "  config={\n",
    "    \"response_mime_type\": \"application/json\"\n",
    "  },\n",
    ")"
   ]
  },
  {
   "cell_type": "code",
   "execution_count": 10,
   "id": "467aa1e9",
   "metadata": {},
   "outputs": [],
   "source": [
    "try:\n",
    "    ocr_result = json.loads(response.text)\n",
    "except json.JSONDecodeError:\n",
    "    ocr_result = utils.load_json_from_text(response.text)"
   ]
  },
  {
   "cell_type": "code",
   "execution_count": 11,
   "id": "2b6f7a66",
   "metadata": {},
   "outputs": [
    {
     "ename": "ValidationError",
     "evalue": "1 validation error for BalanceSheet\n  Value error, Balance sheet validation failed:\n- Rule validation failed for netto: Row 57 (25306) != Sum of rows 58+59+60+61 (23483) (difference: 1823, tolerance: 1) [type=value_error, input_value={'rok': 2024, 'data': {'1... 0, 'netto_minule': 0}}}, input_type=dict]\n    For further information visit https://errors.pydantic.dev/2.11/v/value_error",
     "output_type": "error",
     "traceback": [
      "\u001b[0;31m---------------------------------------------------------------------------\u001b[0m",
      "\u001b[0;31mValidationError\u001b[0m                           Traceback (most recent call last)",
      "Cell \u001b[0;32mIn[11], line 1\u001b[0m\n\u001b[0;32m----> 1\u001b[0m validated \u001b[38;5;241m=\u001b[39m \u001b[43mBalanceSheet\u001b[49m\u001b[38;5;241;43m.\u001b[39;49m\u001b[43mmodel_validate_with_tolerance\u001b[49m\u001b[43m(\u001b[49m\u001b[43mocr_result\u001b[49m\u001b[43m,\u001b[49m\u001b[43m \u001b[49m\u001b[43mtolerance\u001b[49m\u001b[38;5;241;43m=\u001b[39;49m\u001b[38;5;241;43m1\u001b[39;49m\u001b[43m)\u001b[49m\n",
      "File \u001b[0;32m/mnt/c/Users/janhe/OneDrive/Plocha/repos/valuagent/src/domain/models/balance_sheet.py:100\u001b[0m, in \u001b[0;36mBalanceSheet.model_validate_with_tolerance\u001b[0;34m(cls, obj, tolerance, **kwargs)\u001b[0m\n\u001b[1;32m     98\u001b[0m context[\u001b[38;5;124m'\u001b[39m\u001b[38;5;124mtolerance\u001b[39m\u001b[38;5;124m'\u001b[39m] \u001b[38;5;241m=\u001b[39m tolerance\n\u001b[1;32m     99\u001b[0m kwargs[\u001b[38;5;124m'\u001b[39m\u001b[38;5;124mcontext\u001b[39m\u001b[38;5;124m'\u001b[39m] \u001b[38;5;241m=\u001b[39m context\n\u001b[0;32m--> 100\u001b[0m \u001b[38;5;28;01mreturn\u001b[39;00m \u001b[38;5;28;43mcls\u001b[39;49m\u001b[38;5;241;43m.\u001b[39;49m\u001b[43mmodel_validate\u001b[49m\u001b[43m(\u001b[49m\u001b[43mobj\u001b[49m\u001b[43m,\u001b[49m\u001b[43m \u001b[49m\u001b[38;5;241;43m*\u001b[39;49m\u001b[38;5;241;43m*\u001b[39;49m\u001b[43mkwargs\u001b[49m\u001b[43m)\u001b[49m\n",
      "File \u001b[0;32m~/.cache/pypoetry/virtualenvs/valuagent-L2uncqVZ-py3.10/lib/python3.10/site-packages/pydantic/main.py:705\u001b[0m, in \u001b[0;36mBaseModel.model_validate\u001b[0;34m(cls, obj, strict, from_attributes, context, by_alias, by_name)\u001b[0m\n\u001b[1;32m    699\u001b[0m \u001b[38;5;28;01mif\u001b[39;00m by_alias \u001b[38;5;129;01mis\u001b[39;00m \u001b[38;5;28;01mFalse\u001b[39;00m \u001b[38;5;129;01mand\u001b[39;00m by_name \u001b[38;5;129;01mis\u001b[39;00m \u001b[38;5;129;01mnot\u001b[39;00m \u001b[38;5;28;01mTrue\u001b[39;00m:\n\u001b[1;32m    700\u001b[0m     \u001b[38;5;28;01mraise\u001b[39;00m PydanticUserError(\n\u001b[1;32m    701\u001b[0m         \u001b[38;5;124m'\u001b[39m\u001b[38;5;124mAt least one of `by_alias` or `by_name` must be set to True.\u001b[39m\u001b[38;5;124m'\u001b[39m,\n\u001b[1;32m    702\u001b[0m         code\u001b[38;5;241m=\u001b[39m\u001b[38;5;124m'\u001b[39m\u001b[38;5;124mvalidate-by-alias-and-name-false\u001b[39m\u001b[38;5;124m'\u001b[39m,\n\u001b[1;32m    703\u001b[0m     )\n\u001b[0;32m--> 705\u001b[0m \u001b[38;5;28;01mreturn\u001b[39;00m \u001b[38;5;28;43mcls\u001b[39;49m\u001b[38;5;241;43m.\u001b[39;49m\u001b[43m__pydantic_validator__\u001b[49m\u001b[38;5;241;43m.\u001b[39;49m\u001b[43mvalidate_python\u001b[49m\u001b[43m(\u001b[49m\n\u001b[1;32m    706\u001b[0m \u001b[43m    \u001b[49m\u001b[43mobj\u001b[49m\u001b[43m,\u001b[49m\u001b[43m \u001b[49m\u001b[43mstrict\u001b[49m\u001b[38;5;241;43m=\u001b[39;49m\u001b[43mstrict\u001b[49m\u001b[43m,\u001b[49m\u001b[43m \u001b[49m\u001b[43mfrom_attributes\u001b[49m\u001b[38;5;241;43m=\u001b[39;49m\u001b[43mfrom_attributes\u001b[49m\u001b[43m,\u001b[49m\u001b[43m \u001b[49m\u001b[43mcontext\u001b[49m\u001b[38;5;241;43m=\u001b[39;49m\u001b[43mcontext\u001b[49m\u001b[43m,\u001b[49m\u001b[43m \u001b[49m\u001b[43mby_alias\u001b[49m\u001b[38;5;241;43m=\u001b[39;49m\u001b[43mby_alias\u001b[49m\u001b[43m,\u001b[49m\u001b[43m \u001b[49m\u001b[43mby_name\u001b[49m\u001b[38;5;241;43m=\u001b[39;49m\u001b[43mby_name\u001b[49m\n\u001b[1;32m    707\u001b[0m \u001b[43m\u001b[49m\u001b[43m)\u001b[49m\n",
      "\u001b[0;31mValidationError\u001b[0m: 1 validation error for BalanceSheet\n  Value error, Balance sheet validation failed:\n- Rule validation failed for netto: Row 57 (25306) != Sum of rows 58+59+60+61 (23483) (difference: 1823, tolerance: 1) [type=value_error, input_value={'rok': 2024, 'data': {'1... 0, 'netto_minule': 0}}}, input_type=dict]\n    For further information visit https://errors.pydantic.dev/2.11/v/value_error"
     ]
    }
   ],
   "source": [
    "validated = BalanceSheet.model_validate_with_tolerance(ocr_result, tolerance=1)"
   ]
  },
  {
   "cell_type": "code",
   "execution_count": 13,
   "id": "661e8dc0",
   "metadata": {},
   "outputs": [
    {
     "data": {
      "text/plain": [
       "25306"
      ]
     },
     "execution_count": 13,
     "metadata": {},
     "output_type": "execute_result"
    }
   ],
   "source": [
    "ocr_result[\"data\"][\"57\"][\"netto\"]"
   ]
  },
  {
   "cell_type": "code",
   "execution_count": 14,
   "id": "d9ac4a52",
   "metadata": {},
   "outputs": [
    {
     "data": {
      "text/plain": [
       "20667"
      ]
     },
     "execution_count": 14,
     "metadata": {},
     "output_type": "execute_result"
    }
   ],
   "source": [
    "ocr_result[\"data\"][\"58\"][\"netto\"]"
   ]
  },
  {
   "cell_type": "code",
   "execution_count": 15,
   "id": "9c35d0e9",
   "metadata": {},
   "outputs": [
    {
     "data": {
      "text/plain": [
       "0"
      ]
     },
     "execution_count": 15,
     "metadata": {},
     "output_type": "execute_result"
    }
   ],
   "source": [
    "ocr_result[\"data\"][\"59\"][\"netto\"]"
   ]
  },
  {
   "cell_type": "code",
   "execution_count": 16,
   "id": "e9c546af",
   "metadata": {},
   "outputs": [
    {
     "data": {
      "text/plain": [
       "0"
      ]
     },
     "execution_count": 16,
     "metadata": {},
     "output_type": "execute_result"
    }
   ],
   "source": [
    "ocr_result[\"data\"][\"60\"][\"netto\"]"
   ]
  },
  {
   "cell_type": "code",
   "execution_count": 17,
   "id": "9c660b48",
   "metadata": {},
   "outputs": [
    {
     "data": {
      "text/plain": [
       "2816"
      ]
     },
     "execution_count": 17,
     "metadata": {},
     "output_type": "execute_result"
    }
   ],
   "source": [
    "ocr_result[\"data\"][\"61\"][\"netto\"]"
   ]
  },
  {
   "cell_type": "code",
   "execution_count": 22,
   "id": "4abd14be",
   "metadata": {},
   "outputs": [
    {
     "data": {
      "text/plain": [
       "1823"
      ]
     },
     "execution_count": 22,
     "metadata": {},
     "output_type": "execute_result"
    }
   ],
   "source": [
    "25306 - (20667 + 2816)"
   ]
  },
  {
   "cell_type": "code",
   "execution_count": null,
   "id": "accbce56",
   "metadata": {},
   "outputs": [],
   "source": [
    "validated.data"
   ]
  },
  {
   "cell_type": "code",
   "execution_count": null,
   "id": "a99d6800",
   "metadata": {},
   "outputs": [],
   "source": [
    "response = client.models.generate_content(\n",
    "  model=model_name,\n",
    "  contents=[\n",
    "    types.Part.from_bytes(\n",
    "      data=filepath.read_bytes(),\n",
    "      mime_type='application/pdf'\n",
    "    ),\n",
    "    profit_and_loss_ocr_instructions\n",
    "  ],\n",
    "  config={\n",
    "    \"response_mime_type\": \"application/json\"\n",
    "  },\n",
    ")"
   ]
  },
  {
   "cell_type": "code",
   "execution_count": null,
   "id": "0cd637e4",
   "metadata": {},
   "outputs": [],
   "source": [
    "try:\n",
    "    ocr_result = json.loads(response.text)\n",
    "except json.JSONDecodeError:\n",
    "    ocr_result = utils.load_json_from_text(response.text)"
   ]
  },
  {
   "cell_type": "code",
   "execution_count": null,
   "id": "d4216f0c",
   "metadata": {},
   "outputs": [],
   "source": [
    "validated_profit_and_loss = ProfitAndLoss.model_validate_with_tolerance(ocr_result, tolerance=1)"
   ]
  },
  {
   "cell_type": "code",
   "execution_count": null,
   "id": "a2232ee1",
   "metadata": {},
   "outputs": [],
   "source": [
    "validated_profit_and_loss.data"
   ]
  },
  {
   "cell_type": "code",
   "execution_count": null,
   "id": "d08a8ba5",
   "metadata": {},
   "outputs": [],
   "source": [
    "validated.data[99].netto  == validated_profit_and_loss.data[53].současné"
   ]
  },
  {
   "cell_type": "code",
   "execution_count": null,
   "id": "e464f4ef",
   "metadata": {},
   "outputs": [],
   "source": [
    "validated.data[99].netto_minule  == validated_profit_and_loss.data[53].minulé"
   ]
  },
  {
   "cell_type": "code",
   "execution_count": 23,
   "id": "4e6be40d",
   "metadata": {},
   "outputs": [
    {
     "name": "stdout",
     "output_type": "stream",
     "text": [
      "\n",
      "Najdi v přiloženém PDF účetní rozvahu a indentifikuj její jednotlivé položky.\n",
      "\n",
      "Existují následující položky:\n",
      "Označení Položka\n",
      "1 Aktiva\n",
      "\t2 Pohledávky za upsaný základní kapitál\n",
      "\t3 Dlouhodobý majetek\n",
      "\t\t4 Dlouhodobý nehmotný majetek\n",
      "\t\t\t5 Nehmotné výsledky výzkumu a vývoje\n",
      "\t\t\t6 Ocenitelná práva\n",
      "\t\t\t\t7 Software\n",
      "\t\t\t\t8 Ostatní ocenitelná práva\n",
      "\t\t\t9 Goodwill\n",
      "\t\t\t10 Ostatní dlouhodobý nehmotný majetek\n",
      "\t\t\t11 Posk. zálohy na dl. a nedokonč.dl. nehm. majetek\n",
      "\t\t\t\t12 Poskytnuté zálohy na dlouhodobý nehmotný majetek\n",
      "\t\t\t\t13 Nedokončený dlouhodobý nehmotný majetek\n",
      "\t\t14 Dlouhodobý hmotný majetek\n",
      "\t\t\t15 Pozemky a stavby\n",
      "\t\t\t\t16 Pozemky\n",
      "\t\t\t\t17 Stavby\n",
      "\t\t\t18 Hmotné movité věci a jejich soubory\n",
      "\t\t\t19 Oceňovací rozdíl k nabytému majetku\n",
      "\t\t\t20 Ostatní dlouhodobý hmotný majetek\n",
      "\t\t\t\t21 Pěstitelské celky trvalých porostů\n",
      "\t\t\t\t22 Dospělá zvířata a jejich skupiny\n",
      "\t\t\t\t23 Jiný dlouhodobý hmotný majetek\n",
      "\t\t\t24 Poskytnuté zálohy na DHM a nedokončený DHM\n",
      "\t\t\t\t25 Poskytnuté zálohy na dlouhodobý hmotný majetek\n",
      "\t\t\t\t26 Nedokončený dlouhodobý hmotný majetek\n",
      "\t\t27 Dlouhodobý finanční majetek\n",
      "\t\t\t28 Podíly - ovládaná nebo ovládající osoba\n",
      "\t\t\t29 Zápůjčky a úvěry - ovládaná nebo ovládající osoba\n",
      "\t\t\t30 Podíly - podstatný vliv\n",
      "\t\t\t31 Zápůjčky a úvěry - podstatný vliv\n",
      "\t\t\t32 Ostatní dlouhodobé cenné papíry a podíly\n",
      "\t\t\t33 Zápůjčky a úvěry - ostatní\n",
      "\t\t\t34 Ostatní dlouhodobý finanční majetek\n",
      "\t\t\t\t35 Jiný dlouhodobý finanční majetek\n",
      "\t\t\t\t36 Poskytnuté zálohy na dlouhodobý finanční majetek\n",
      "\t37 Oběžná aktiva\n",
      "\t\t38 Zásoby\n",
      "\t\t\t39 Materiál\n",
      "\t\t\t40 Nedokončená výroba a polotovary\n",
      "\t\t\t41 Výrobky a zboží\n",
      "\t\t\t\t42 Výrobky\n",
      "\t\t\t\t43 Zboží\n",
      "\t\t\t44 Mladá a ostatní zvířata a jejich skupiny\n",
      "\t\t\t45 Poskytnuté zálohy na zásoby\n",
      "\t\t46 Pohledávky\n",
      "\t\t\t47 Dlouhodobé pohledávky\n",
      "\t\t\t\t48 Pohledávky z obchodních vztahů\n",
      "\t\t\t\t49 Pohledávky - ovládaná nebo ovládající osoba\n",
      "\t\t\t\t50 Pohledávky - podstatný vliv\n",
      "\t\t\t\t51 Odložená daňová pohledávka\n",
      "\t\t\t\t52 Pohledávky - ostatní\n",
      "\t\t\t\t\t53 Pohledávky za společníky\n",
      "\t\t\t\t\t54 Dlouhodobé poskytnuté zálohy\n",
      "\t\t\t\t\t55 Dohadné účty aktivní\n",
      "\t\t\t\t\t56 Jiné pohledávky\n",
      "\t\t\t57 Krátkodobé pohledávky\n",
      "\t\t\t\t58 Pohledávky z obchodních vztahů\n",
      "\t\t\t\t59 Pohledávky - ovládaná nebo ovládající osoba\n",
      "\t\t\t\t60 Pohledávky - podstatný vliv\n",
      "\t\t\t\t61 Pohledávky ostatní\n",
      "\t\t\t\t\t62 Pohledávky za společníky\n",
      "\t\t\t\t\t63 Sociální zabezpečení a zdravotní pojištění\n",
      "\t\t\t\t\t64 Stát - daňové pohledávky\n",
      "\t\t\t\t\t65 Krátkodobé poskytnuté zálohy\n",
      "\t\t\t\t\t66 Dohadné účty aktivní\n",
      "\t\t\t\t\t67 Jiné pohledávky\n",
      "\t\t68 Krátkodobý finanční majetek\n",
      "\t\t\t69 Podíly - ovládaná nebo ovládající osoba\n",
      "\t\t\t70 Ostatní krátkodobý finanční majetek\n",
      "\t\t71 Peněžní prostředky\n",
      "\t\t\t72 Peněžní prostředky v pokladně\n",
      "\t\t\t73 Peněžní prostředky na účtech\n",
      "\t74 Časové rozlišení\n",
      "\t\t75 Náklady příštích období\n",
      "\t\t76 Komplexní náklady příštích období\n",
      "\t\t77 Příjmy příštích období\n",
      "78 Pasiva\n",
      "\t79 Vlastní kapitál\n",
      "\t\t80 Základní kapitál\n",
      "\t\t\t81 Základní kapitál\n",
      "\t\t\t82 Vlastní podíly (-)\n",
      "\t\t\t83 Změny základního kapitálu\n",
      "\t\t84 Ážio a kapitálové fondy\n",
      "\t\t\t85 Ážio\n",
      "\t\t\t86 Kapitálové fondy\n",
      "\t\t\t\t87 Ostatní kapitálové fondy\n",
      "\t\t\t\t88 Oceňovací rozdíly z přecenění majetku a závazků (+/-)\n",
      "\t\t\t\t89 Oceňovací rozdíly z přecenění při přeměnách obchodních korporací (+/-)\n",
      "\t\t\t\t90 Rozdíly z přeměn obchodních korporací (+/-)\n",
      "\t\t\t\t91 Rozdíly z ocenění při přeměnách obchodních korporací (+/-)\n",
      "\t\t92 Fondy ze zisku\n",
      "\t\t\t93 Ostatní rezervní fondy\n",
      "\t\t\t94 Statutární a ostatní fondy\n",
      "\t\t95 Výsledek hospodaření minulých let (+/-)\n",
      "\t\t\t96 Nerozdělený zisk minulých let\n",
      "\t\t\t97 Neuhrazená ztráta minulých let (-)\n",
      "\t\t\t98 Jiný výsledek hospodaření minulých let (+/-)\n",
      "\t\t99 Výsledek hospodaření běžného účetního období (+/-)\n",
      "\t\t100 Rozhodnuto o zálohové výplatě podílu na zisku (-)\n",
      "\t101 Cizí zdroje\n",
      "\t\t102 Rezervy\n",
      "\t\t\t103 Rezerva na důchody a podobné závazky\n",
      "\t\t\t104 Rezerva na daň z příjmů\n",
      "\t\t\t105 Rezervy podle zvláštních právních předpisů\n",
      "\t\t\t106 Ostatní rezervy\n",
      "\t\t107 Závazky\n",
      "\t\t\t108 Dlouhodobé závazky\n",
      "\t\t\t\t109 Vydané dluhopisy\n",
      "\t\t\t\t\t110 Vyměnitelné dluhopisy\n",
      "\t\t\t\t\t111 Ostatní dluhopisy\n",
      "\t\t\t\t112 Závazky k úvěrovým institucím\n",
      "\t\t\t\t113 Dlouhodobé přijaté zálohy\n",
      "\t\t\t\t114 Závazky z obchodních vztahů\n",
      "\t\t\t\t115 Dlouhodobé směnky k úhradě\n",
      "\t\t\t\t116 Závazky - ovládaná nebo ovládající osoba\n",
      "\t\t\t\t117 Závazky - podstatný vliv\n",
      "\t\t\t\t118 Odložený daňový závazek\n",
      "\t\t\t\t119 Závazky - ostatní\n",
      "\t\t\t\t\t120 Závazky ke společníkům\n",
      "\t\t\t\t\t121 Dohadné účty pasivní\n",
      "\t\t\t\t\t122 Jiné závazky\n",
      "\t\t\t123 Krátkodobé závazky\n",
      "\t\t\t\t124 Vydané dluhopisy\n",
      "\t\t\t\t\t125 Vyměnitelné dluhopisy\n",
      "\t\t\t\t\t126 Ostatní dluhopisy\n",
      "\t\t\t\t127 Závazky k úvěrovým institucím\n",
      "\t\t\t\t128 Krátkodobé přijaté zálohy\n",
      "\t\t\t\t129 Závazky z obchodních vztahů\n",
      "\t\t\t\t130 Krátkodobé směnky k úhradě\n",
      "\t\t\t\t131 Závazky - ovládaná nebo ovládající osoba\n",
      "\t\t\t\t132 Závazky - podstatný vliv\n",
      "\t\t\t\t133 Závazky ostatní\n",
      "\t\t\t\t\t134 Závazky ke společníkům\n",
      "\t\t\t\t\t135 Krátkodobé finanční výpomoci\n",
      "\t\t\t\t\t136 Závazky k zaměstnancům\n",
      "\t\t\t\t\t137 Závazky ze soc. zabezp. a zdravotního p.\n",
      "\t\t\t\t\t138 Stát - daňové závazky a dotace\n",
      "\t\t\t\t\t139 Dohadné účty pasivní\n",
      "\t\t\t\t\t140 Jiné závazky\n",
      "\t141 Časové rozlišení\n",
      "\t\t142 Výdaje příštích období\n",
      "\t\t143 Výnosy příštích období\n",
      "\n",
      "Každá položka je sumou položek o jeden indent hlouběji.\n",
      "\n",
      "Některé položky můžou v rozvaze chybět, pokud tomu tak je, vrať hodnoty 0.\n",
      "V některých případech může být položka označena například zkratkou nebo synonymem.\n",
      "Dej pozor na správné znaménko u jednotlivých položek. Kladná čísla vracej jako kladná, záporná čísla vracej jako záporná.\n",
      "Dej pozor v jakých jednotkách je výkaz vyjádřen. Použij stejné jednotky ve výstupu.\n",
      "\n",
      "Ke každé aktivní položce potřebujeme Brutto, Korekce, Netto a Netto v minulém období.\n",
      "Pasivní položky jsou udávany pouze jedním stavem (Netto), potřebujeme tedy extrahovat Netto a Netto v minulém období.\n",
      "\n",
      "Vracíš pouze json, nic jiného.\n",
      "Jednotlivé položky označuj podle číselného sloupečku \"Označení\"\n",
      "Formát:\n",
      "{\n",
      "    \"rok\": 2024,\n",
      "    \"data\": {\n",
      "        \"1\": {\n",
      "            \"brutto\": 100000,\n",
      "            \"korekce\": 10000,\n",
      "            \"netto\": 90000,\n",
      "            \"netto_minule\": 80000\n",
      "        },\n",
      "        \"2\": {\n",
      "            \"brutto\": 50000,\n",
      "            \"korekce\": 5000,\n",
      "            \"netto\": 45000,\n",
      "            \"netto_minule\": 40000\n",
      "        },\n",
      "        ...\n",
      "        \"78\": {\n",
      "            \"netto\": 90000,\n",
      "            \"netto_minule\": 80000\n",
      "        },\n",
      "        ...\n",
      "    }\n",
      "\n"
     ]
    }
   ],
   "source": [
    "print(balance_sheet_ocr_instructions)"
   ]
  }
 ],
 "metadata": {
  "kernelspec": {
   "display_name": "Python 3 (ipykernel)",
   "language": "python",
   "name": "python3"
  },
  "language_info": {
   "codemirror_mode": {
    "name": "ipython",
    "version": 3
   },
   "file_extension": ".py",
   "mimetype": "text/x-python",
   "name": "python",
   "nbconvert_exporter": "python",
   "pygments_lexer": "ipython3",
   "version": "3.10.12"
  }
 },
 "nbformat": 4,
 "nbformat_minor": 5
}
